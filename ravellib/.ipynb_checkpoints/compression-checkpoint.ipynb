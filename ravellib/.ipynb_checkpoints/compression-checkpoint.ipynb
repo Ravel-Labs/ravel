{
 "cells": [
  {
   "cell_type": "code",
   "execution_count": 3,
   "metadata": {},
   "outputs": [
    {
     "name": "stdout",
     "output_type": "stream",
     "text": [
      "The autoreload extension is already loaded. To reload it, use:\n",
      "  %reload_ext autoreload\n"
     ]
    }
   ],
   "source": [
    "import os\n",
    "import librosa\n",
    "import numpy as np\n",
    "import scipy\n",
    "from scipy.fftpack import fft\n",
    "from scipy.stats import rankdata\n",
    "from pydub import AudioSegment\n",
    "from pyo import *\n",
    "from preprocessing import *\n",
    "import matplotlib.pyplot as plt\n",
    "import librosa.display\n",
    "import IPython.display as ipd\n",
    "import soundfile as sf\n",
    "import pyloudnorm as pyln\n",
    "%matplotlib inline\n",
    "%load_ext autoreload\n",
    "%autoreload 2"
   ]
  },
  {
   "cell_type": "code",
   "execution_count": 4,
   "metadata": {},
   "outputs": [],
   "source": [
    "signals = ['audio_data/bass.wav', 'audio_data/drums.wav', 'audio_data/other.wav', 'audio_data/vocals.wav']"
   ]
  },
  {
   "cell_type": "code",
   "execution_count": 5,
   "metadata": {},
   "outputs": [],
   "source": [
    "y, sr = librosa.load(signals[0], sr=44100)"
   ]
  },
  {
   "cell_type": "code",
   "execution_count": 8,
   "metadata": {},
   "outputs": [],
   "source": [
    "rms_y = librosa.feature.rms(y, frame_length=1024, hop_length=512)\n",
    "rms_ydb = np.mean(librosa.amplitude_to_db(rms_y))"
   ]
  },
  {
   "cell_type": "code",
   "execution_count": 9,
   "metadata": {},
   "outputs": [
    {
     "data": {
      "text/plain": [
       "-30.282135"
      ]
     },
     "execution_count": 9,
     "metadata": {},
     "output_type": "execute_result"
    }
   ],
   "source": [
    "rms_ydb"
   ]
  },
  {
   "cell_type": "code",
   "execution_count": 19,
   "metadata": {},
   "outputs": [],
   "source": [
    "D = np.abs(librosa.core.stft(y, n_fft=1024, hop_length=512))\n",
    "peak_ydb = librosa.amplitude_to_db(np.sum(D, axis=0)).max()"
   ]
  },
  {
   "cell_type": "code",
   "execution_count": 20,
   "metadata": {},
   "outputs": [
    {
     "data": {
      "text/plain": [
       "-1.4092894"
      ]
     },
     "execution_count": 20,
     "metadata": {},
     "output_type": "execute_result"
    }
   ],
   "source": [
    "peak_ydb / rms_ydb"
   ]
  },
  {
   "cell_type": "code",
   "execution_count": null,
   "metadata": {},
   "outputs": [],
   "source": []
  },
  {
   "cell_type": "code",
   "execution_count": 110,
   "metadata": {},
   "outputs": [],
   "source": [
    "y1, _ = librosa.load(signals[1], sr=sr)"
   ]
  },
  {
   "cell_type": "code",
   "execution_count": 111,
   "metadata": {},
   "outputs": [],
   "source": [
    "y2, _ = librosa.load(signals[2], sr=sr)\n",
    "y3, _ = librosa.load(signals[3], sr=sr)"
   ]
  },
  {
   "cell_type": "code",
   "execution_count": 7,
   "metadata": {},
   "outputs": [
    {
     "data": {
      "text/plain": [
       "(1942186,)"
      ]
     },
     "execution_count": 7,
     "metadata": {},
     "output_type": "execute_result"
    }
   ],
   "source": [
    "y.shape"
   ]
  },
  {
   "cell_type": "code",
   "execution_count": 4,
   "metadata": {},
   "outputs": [],
   "source": [
    "def forget_factor(time_constant, sr): \n",
    "    '''\n",
    "    Alpha signifies the forget factor for parameter autonomation equations\n",
    "    '''\n",
    "    return np.exp(-1 / (time_constant * sr))\n",
    "\n",
    "def rms_squared(audio_signal, time_constant, sr):\n",
    "    alpha = forget_factor(time_constant, sr)\n",
    "    rms = librosa.feature.rms(audio_signal, frame_length=1024, hop_length=512)\n",
    "    rms_squared = np.zeros(rms.shape)\n",
    "    for i in range(1, rms.shape[1]):\n",
    "        rms_squared[0,i] = alpha * rms[0,i-1]**2 + (1-alpha)*np.absolute(audio_signal[i]**2)\n",
    "    return np.squeeze(rms_squared, axis=0)"
   ]
  },
  {
   "cell_type": "code",
   "execution_count": 16,
   "metadata": {},
   "outputs": [
    {
     "data": {
      "text/plain": [
       "-40.570286190340575"
      ]
     },
     "execution_count": 16,
     "metadata": {},
     "output_type": "execute_result"
    }
   ],
   "source": [
    "librosa.amplitude_to_db(rms_squared(y, 0.200, sr)).max()"
   ]
  },
  {
   "cell_type": "code",
   "execution_count": 70,
   "metadata": {},
   "outputs": [],
   "source": [
    "rms_y = librosa.amplitude_to_db(peak(y, 0.200, sr))\n",
    "peak_y = librosa.amplitude_to_db(peak(y, 0.200, sr))"
   ]
  },
  {
   "cell_type": "code",
   "execution_count": 101,
   "metadata": {},
   "outputs": [
    {
     "data": {
      "text/plain": [
       "157.15323"
      ]
     },
     "execution_count": 101,
     "metadata": {},
     "output_type": "execute_result"
    }
   ],
   "source": [
    "np.sum((librosa.feature.rms(y, frame_length=1024, hop_length=512)))"
   ]
  },
  {
   "cell_type": "code",
   "execution_count": 71,
   "metadata": {},
   "outputs": [
    {
     "name": "stderr",
     "output_type": "stream",
     "text": [
      "/Users/garrettransom/ravel_labs/preprocessing.py:54: RuntimeWarning: invalid value encountered in sqrt\n",
      "  return np.sqrt(crest_factor)\n"
     ]
    },
    {
     "data": {
      "text/plain": [
       "nan"
      ]
     },
     "execution_count": 71,
     "metadata": {},
     "output_type": "execute_result"
    }
   ],
   "source": [
    "crest_factor(peak_y, rms_y).mean()"
   ]
  },
  {
   "cell_type": "code",
   "execution_count": 31,
   "metadata": {},
   "outputs": [
    {
     "data": {
      "text/plain": [
       "0.09677552"
      ]
     },
     "execution_count": 31,
     "metadata": {},
     "output_type": "execute_result"
    }
   ],
   "source": [
    "librosa.feature.rms(y, frame_length=1024, hop_length=512).max()"
   ]
  },
  {
   "cell_type": "code",
   "execution_count": 48,
   "metadata": {},
   "outputs": [],
   "source": [
    "on = librosa.onset.onset_strength(y, sr)"
   ]
  },
  {
   "cell_type": "code",
   "execution_count": 49,
   "metadata": {},
   "outputs": [
    {
     "data": {
      "text/plain": [
       "(3794,)"
      ]
     },
     "execution_count": 49,
     "metadata": {},
     "output_type": "execute_result"
    }
   ],
   "source": [
    "on.shape"
   ]
  },
  {
   "cell_type": "code",
   "execution_count": 12,
   "metadata": {},
   "outputs": [],
   "source": [
    "p = librosa.util.peak_pick(on, 3, 3, 3, 5, 0.5, 10)"
   ]
  },
  {
   "cell_type": "code",
   "execution_count": 25,
   "metadata": {},
   "outputs": [
    {
     "data": {
      "text/plain": [
       "array([0, 0, 0, ..., 0, 0, 0])"
      ]
     },
     "execution_count": 25,
     "metadata": {},
     "output_type": "execute_result"
    }
   ],
   "source": [
    "np.array([1 if i in p else 0 for i in range(on.shape[0])])"
   ]
  },
  {
   "cell_type": "code",
   "execution_count": 76,
   "metadata": {},
   "outputs": [
    {
     "data": {
      "text/plain": [
       "0.002064093097432567"
      ]
     },
     "execution_count": 76,
     "metadata": {},
     "output_type": "execute_result"
    }
   ],
   "source": [
    "rms_sq.mean()"
   ]
  },
  {
   "cell_type": "code",
   "execution_count": 13,
   "metadata": {},
   "outputs": [],
   "source": [
    "def peak(audio_signal, time_constant, sr):\n",
    "    onset_env = librosa.onset.onset_strength(y=audio_signal, sr=sr, n_fft=1024, hop_length=512, aggregate=np.median)\n",
    "    peaks = librosa.util.peak_pick(onset_env, 3, 3, 3, 5, 0.5, 10)\n",
    "    peak_bool = np.array([1 if i in peaks else 0 for i in range(onset_env.shape[0])])\n",
    "    peak_mat = onset_env * peak_bool\n",
    "    x = np.mean(np.abs(librosa.core.stft(audio_signal, n_fft=1024, hop_length=512)), axis=0)\n",
    "    alpha = forget_factor(time_constant, sr)\n",
    "    peaks_squared = np.zeros(peak_mat.shape)\n",
    "    for i in range(1, len(peaks_squared)):\n",
    "        peak_factor = alpha * peak_mat[i-1]**2 + (1 - alpha) * np.absolute(x[i])**2\n",
    "        peaks_squared[i] = max(x[i]**2, peak_factor)\n",
    "    return peaks_squared"
   ]
  },
  {
   "cell_type": "code",
   "execution_count": 79,
   "metadata": {},
   "outputs": [],
   "source": [
    "peaks = peak(y, 0.200, sr)"
   ]
  },
  {
   "cell_type": "code",
   "execution_count": 6,
   "metadata": {},
   "outputs": [],
   "source": [
    "def crest_factor(rms, peaks): \n",
    "    crest_factor = np.zeros(rms.shape)\n",
    "    crest_factor[0] = 0\n",
    "    crest_factor[1:] = peaks[1:] / rms[1:]\n",
    "    return np.sqrt(crest_factor)"
   ]
  },
  {
   "cell_type": "code",
   "execution_count": 53,
   "metadata": {},
   "outputs": [],
   "source": [
    "c = crest_factor(rms_sq, peaks)"
   ]
  },
  {
   "cell_type": "code",
   "execution_count": 54,
   "metadata": {},
   "outputs": [
    {
     "data": {
      "text/plain": [
       "(0.0, 675.988612508922)"
      ]
     },
     "execution_count": 54,
     "metadata": {},
     "output_type": "execute_result"
    }
   ],
   "source": [
    "c.min(), c.max()"
   ]
  },
  {
   "cell_type": "code",
   "execution_count": 55,
   "metadata": {},
   "outputs": [
    {
     "data": {
      "text/plain": [
       "(2377, 169.96027855462532, 1853, 3.3130264842445327e-07)"
      ]
     },
     "execution_count": 55,
     "metadata": {},
     "output_type": "execute_result"
    }
   ],
   "source": [
    "peaks.argmax(), peaks.max(), peaks[1:].argmin(), peaks[1853]"
   ]
  },
  {
   "cell_type": "code",
   "execution_count": 62,
   "metadata": {},
   "outputs": [],
   "source": [
    "def crest_attack_release(attack_max, release_max, crest_factor_sq):\n",
    "    attack = np.zeros(crest_factor_sq.shape)\n",
    "    release = np.zeros(crest_factor_sq.shape)\n",
    "    attack[1:] = (2 * attack_max) / crest_factor_sq[1:]**2\n",
    "    release[1:] = ((2 * release_max) / crest_factor_sq[1:]**2) - attack[1:]\n",
    "    return attack, release"
   ]
  },
  {
   "cell_type": "code",
   "execution_count": 63,
   "metadata": {},
   "outputs": [
    {
     "data": {
      "text/plain": [
       "(array([0.        , 0.20671053, 0.20621283, ..., 0.24503107, 0.26222313,\n",
       "        0.67021767]),\n",
       " array([0.        , 0.05167763, 0.05155321, ..., 0.06125777, 0.06555578,\n",
       "        0.16755442]))"
      ]
     },
     "execution_count": 63,
     "metadata": {},
     "output_type": "execute_result"
    }
   ],
   "source": [
    "crest_attack_release(0.80, 1, c)"
   ]
  },
  {
   "cell_type": "code",
   "execution_count": 38,
   "metadata": {},
   "outputs": [
    {
     "data": {
      "text/plain": [
       "[<matplotlib.lines.Line2D at 0x128f4b5f8>]"
      ]
     },
     "execution_count": 38,
     "metadata": {},
     "output_type": "execute_result"
    },
    {
     "data": {
      "image/png": "[encoded data removed]",
      "text/plain": [
       "<Figure size 432x288 with 1 Axes>"
      ]
     },
     "metadata": {
      "needs_background": "light"
     },
     "output_type": "display_data"
    }
   ],
   "source": [
    "plt.figure()\n",
    "plt.plot(peaks)"
   ]
  },
  {
   "cell_type": "code",
   "execution_count": 57,
   "metadata": {},
   "outputs": [],
   "source": [
    "onset_env = librosa.onset.onset_strength(y=y, sr=sr, n_fft=1024, hop_length=512, aggregate=np.median)\n",
    "p = librosa.util.peak_pick(onset_env, 3, 3, 3, 5, 0.5, 10)"
   ]
  },
  {
   "cell_type": "code",
   "execution_count": 69,
   "metadata": {},
   "outputs": [],
   "source": [
    "ons = librosa.onset.onset_strength(y=y, sr=sr, n_fft=1024, hop_length=512)"
   ]
  },
  {
   "cell_type": "code",
   "execution_count": 47,
   "metadata": {},
   "outputs": [],
   "source": [
    "alpha = np.exp(-1 / (.200 * 44100))"
   ]
  },
  {
   "cell_type": "code",
   "execution_count": 48,
   "metadata": {},
   "outputs": [
    {
     "data": {
      "text/plain": [
       "110.23750070859"
      ]
     },
     "execution_count": 48,
     "metadata": {},
     "output_type": "execute_result"
    }
   ],
   "source": [
    "alpha * (10.50**2)"
   ]
  },
  {
   "cell_type": "code",
   "execution_count": 78,
   "metadata": {},
   "outputs": [
    {
     "data": {
      "text/plain": [
       "0.003518253527687734"
      ]
     },
     "execution_count": 78,
     "metadata": {},
     "output_type": "execute_result"
    }
   ],
   "source": [
    "(2*0.08)/ c.mean()"
   ]
  },
  {
   "cell_type": "code",
   "execution_count": 79,
   "metadata": {},
   "outputs": [
    {
     "data": {
      "text/plain": [
       "[<matplotlib.lines.Line2D at 0x11fba4dd8>]"
      ]
     },
     "execution_count": 79,
     "metadata": {},
     "output_type": "execute_result"
    },
    {
     "data": {
      "image/png": "[encoded data removed]",
      "text/plain": [
       "<Figure size 432x288 with 1 Axes>"
      ]
     },
     "metadata": {
      "needs_background": "light"
     },
     "output_type": "display_data"
    }
   ],
   "source": [
    "plt.figure()\n",
    "plt.plot(c)"
   ]
  },
  {
   "cell_type": "code",
   "execution_count": 17,
   "metadata": {},
   "outputs": [
    {
     "data": {
      "text/plain": [
       "((3794,), (119,), (1942186,))"
      ]
     },
     "execution_count": 17,
     "metadata": {},
     "output_type": "execute_result"
    }
   ],
   "source": [
    "onset_env.shape, peaks.shape, y.shape"
   ]
  },
  {
   "cell_type": "code",
   "execution_count": 7,
   "metadata": {},
   "outputs": [],
   "source": [
    "def half_wave_rectifier(x): return (x + np.absolute(x)) / 2\n",
    "\n",
    "def spectral_flux(fft_signal):\n",
    "    difference = np.zeros(fft_signal.shape)\n",
    "    difference[:, 1:] = np.diff(np.absolute(fft_signal), axis=1)\n",
    "    hwr = half_wave_rectifier(difference)\n",
    "    spectral_flux = hwr / np.absolute(fft_signal)\n",
    "    return np.sum(spectral_flux, axis=0)"
   ]
  },
  {
   "cell_type": "code",
   "execution_count": 65,
   "metadata": {},
   "outputs": [],
   "source": [
    "fft = librosa.core.stft(y, n_fft=1024, hop_length=512)"
   ]
  },
  {
   "cell_type": "code",
   "execution_count": 8,
   "metadata": {},
   "outputs": [],
   "source": [
    "def low_pass(signal, order, cutoff, sr):\n",
    "    nyq = sr * 0.5\n",
    "    normal_cutoff = cutoff / nyq\n",
    "    b,a = scipy.signal.butter(order, normal_cutoff)\n",
    "    y = scipy.signal.lfilter(b, a, signal)\n",
    "    return y"
   ]
  },
  {
   "cell_type": "code",
   "execution_count": 86,
   "metadata": {},
   "outputs": [],
   "source": [
    "y_filt = low_pass(y, 1, 1000, 44100)"
   ]
  },
  {
   "cell_type": "code",
   "execution_count": 83,
   "metadata": {},
   "outputs": [],
   "source": [
    "nyq = 44100 * 0.5\n",
    "normal_cutoff = 1000 / nyq\n",
    "b, a = scipy.signal.butter(1, normal_cutoff, btype='low')"
   ]
  },
  {
   "cell_type": "code",
   "execution_count": 84,
   "metadata": {},
   "outputs": [],
   "source": [
    "w, h = scipy.signal.freqz(b, a)"
   ]
  },
  {
   "cell_type": "code",
   "execution_count": 85,
   "metadata": {},
   "outputs": [
    {
     "data": {
      "text/plain": [
       "<matplotlib.lines.Line2D at 0x12e2f6240>"
      ]
     },
     "execution_count": 85,
     "metadata": {},
     "output_type": "execute_result"
    },
    {
     "data": {
      "image/png": "[encoded data removed]",
      "text/plain": [
       "<Figure size 432x288 with 1 Axes>"
      ]
     },
     "metadata": {
      "needs_background": "light"
     },
     "output_type": "display_data"
    }
   ],
   "source": [
    "plt.semilogx(0.5*44100*w, 20 * np.log10(abs(h)))\n",
    "plt.margins(0, 0.1)\n",
    "plt.grid(which='both', axis='both')\n",
    "plt.axvline(1000, color='green')"
   ]
  },
  {
   "cell_type": "code",
   "execution_count": 9,
   "metadata": {},
   "outputs": [],
   "source": [
    "def lf_avg(signals, order, cutoff, sr):\n",
    "    sum = 0  \n",
    "    for sig in signals:\n",
    "        x_low = low_pass(sig, order, cutoff, sr)\n",
    "        fft_xlow = np.abs(librosa.core.stft(x_low, n_fft=1024, hop_length=512))\n",
    "        fft_x = np.abs(librosa.core.stft(sig, n_fft=1024, hop_length=512))\n",
    "        total = np.sum(fft_xlow / fft_x)\n",
    "        sum += total\n",
    "    return sum / 4"
   ]
  },
  {
   "cell_type": "code",
   "execution_count": 16,
   "metadata": {},
   "outputs": [
    {
     "data": {
      "text/plain": [
       "301580.5625"
      ]
     },
     "execution_count": 16,
     "metadata": {},
     "output_type": "execute_result"
    }
   ],
   "source": [
    "lf_avg([y, y1, y2, y3], 1, 1000, sr)"
   ]
  },
  {
   "cell_type": "code",
   "execution_count": 10,
   "metadata": {},
   "outputs": [],
   "source": [
    "def lf_weighting(signal, lf_avg, order, cutoff, sr):\n",
    "    lf_x = low_pass(signal, order, cutoff, sr)\n",
    "    x_low = np.abs(librosa.core.stft(lf_x, n_fft=1024, hop_length=512))\n",
    "    x = np.abs(librosa.core.stft(signal, n_fft=1024, hop_length=512))\n",
    "    lfe = np.sum(x_low / x)\n",
    "    return lfe / lf_avg"
   ]
  },
  {
   "cell_type": "code",
   "execution_count": 89,
   "metadata": {},
   "outputs": [],
   "source": [
    "fft_low = np.abs(librosa.core.stft(y_filt, n_fft=1024, hop_length=512))\n",
    "fft = np.abs(librosa.core.stft(y, n_fft=1024, hop_length=512))"
   ]
  },
  {
   "cell_type": "code",
   "execution_count": 101,
   "metadata": {},
   "outputs": [],
   "source": [
    "top = np.sum((fft_low / fft))"
   ]
  },
  {
   "cell_type": "code",
   "execution_count": 102,
   "metadata": {},
   "outputs": [],
   "source": [
    "sum = 0\n",
    "for sig in [y, y1, y2, y3]:\n",
    "    low = low_pass(sig, 1, 1000, sr)\n",
    "    fft_l = np.abs(librosa.core.stft(low, n_fft=1024, hop_length=512))\n",
    "    fft_a = np.abs(librosa.core.stft(sig, n_fft=1024, hop_length=512))\n",
    "    total = np.sum(fft_l / fft_a)\n",
    "    sum += total\n",
    "avg = sum / 4"
   ]
  },
  {
   "cell_type": "code",
   "execution_count": 11,
   "metadata": {},
   "outputs": [],
   "source": [
    "def cf_avg(signals, time_constant, sr):\n",
    "    sum = 0\n",
    "    for sig in signals:\n",
    "        x_peak = peak(sig, time_constant, sr)\n",
    "        x_rms = rms_squared(sig, time_constant, sr)\n",
    "        cf = np.mean(crest_factor(x_peak, x_rms))\n",
    "        sum += cf\n",
    "    return sum / len(signals)"
   ]
  },
  {
   "cell_type": "code",
   "execution_count": 12,
   "metadata": {},
   "outputs": [
    {
     "data": {
      "text/plain": [
       "1.0502942715244457"
      ]
     },
     "execution_count": 12,
     "metadata": {},
     "output_type": "execute_result"
    }
   ],
   "source": [
    "cf_avg([y, y1, y2, y3], 0.200, sr)"
   ]
  },
  {
   "cell_type": "code",
   "execution_count": 12,
   "metadata": {},
   "outputs": [],
   "source": [
    "def wp(signal, cf_avg, time_constant, sr, std):\n",
    "    x_peak = peak(signal, time_constant, sr)\n",
    "    x_rms = rms_squared(signal, time_constant, sr)\n",
    "    cf = (crest_factor(x_peak, x_rms)).mean()        \n",
    "    gaussian = ((cf - cf_avg)**2) / (2*(std**2))\n",
    "    if cf <= cf_avg:\n",
    "        wp = np.exp(gaussian)\n",
    "    else:\n",
    "        wp = 2 - np.exp(gaussian)\n",
    "    return wp, cf"
   ]
  },
  {
   "cell_type": "code",
   "execution_count": 104,
   "metadata": {},
   "outputs": [
    {
     "name": "stdout",
     "output_type": "stream",
     "text": [
      "g 0.6183014306881338\n"
     ]
    },
    {
     "data": {
      "text/plain": [
       "(1.8557732038355208, 0.86594707)"
      ]
     },
     "execution_count": 104,
     "metadata": {},
     "output_type": "execute_result"
    }
   ],
   "source": [
    "wp(y, 3.09, 0.200, sr, 2)"
   ]
  },
  {
   "cell_type": "code",
   "execution_count": 13,
   "metadata": {},
   "outputs": [],
   "source": [
    "def ratio(wp, wf):return 0.54*wp + 0.764*wf + 1"
   ]
  },
  {
   "cell_type": "code",
   "execution_count": 14,
   "metadata": {},
   "outputs": [],
   "source": [
    "def threshold(rms, wp):return -11.03 + 0.44*rms - 4.897*wp"
   ]
  },
  {
   "cell_type": "code",
   "execution_count": 15,
   "metadata": {},
   "outputs": [],
   "source": [
    "def knee_width(thresh): return abs(thresh) / 2"
   ]
  },
  {
   "cell_type": "code",
   "execution_count": 16,
   "metadata": {},
   "outputs": [],
   "source": [
    "def attack(attack_max, crest_factor_n2):\n",
    "    return (2*attack_max) / crest_factor_n2\n",
    "\n",
    "def release(release_max, crest_factor_n2):\n",
    "    return (2*release_max) / crest_factor_n2"
   ]
  },
  {
   "cell_type": "code",
   "execution_count": 17,
   "metadata": {},
   "outputs": [],
   "source": [
    "def makeup_gain(x_in, x_out, rate):\n",
    "    meter = pyln.Meter(rate)\n",
    "    loudness_in = meter.integrated_loudness(x_in)\n",
    "    loudness_out = meter.integrated_loudness(x_out)\n",
    "    return loudness_in - loudness_out"
   ]
  },
  {
   "cell_type": "code",
   "execution_count": 4,
   "metadata": {},
   "outputs": [],
   "source": [
    "def compression_parameters(path, files, time_constant, order, cutoff, sr, std, attack_max, release_max):\n",
    "    compress_info = []\n",
    "    signal_paths = [os.path.join(path, files[i]) for i in range(len(files))]\n",
    "    signals = []\n",
    "    for sig in signal_paths:\n",
    "        y, _ = librosa.load(sig, sr=sr)\n",
    "        signals.append(y)\n",
    "    cfa = cf_avg(signals, time_constant, sr)\n",
    "    lfa = lf_avg(signals, order, cutoff, sr)\n",
    "    for i, signal in enumerate(signals):\n",
    "        w_p, cf = wp(signal, cfa, time_constant, sr, std)\n",
    "        w_f = lf_weighting(signal, lfa, order, cutoff, sr)\n",
    "        rms = np.mean(np.sqrt(rms_squared(signal, time_constant, sr)))\n",
    "        r = float(ratio(w_f, w_p))\n",
    "        t = float(threshold(rms, w_p))\n",
    "        kw = float(knee_width(t))\n",
    "        a = float(attack(attack_max, cf**2))\n",
    "        rel = float(release(release_max, cf**2))\n",
    "        compress_info.append([signal_paths[i], t, r, a, rel, kw])\n",
    "    return compress_info"
   ]
  },
  {
   "cell_type": "code",
   "execution_count": 6,
   "metadata": {},
   "outputs": [],
   "source": [
    "files = ['bass.wav', 'drums.wav', 'other.wav', 'vocals.wav']\n",
    "comp = compression_parameters('audio_data/',files, 0.200, 1, 1000, sr, 2, 0.08, 1)"
   ]
  },
  {
   "cell_type": "code",
   "execution_count": 7,
   "metadata": {},
   "outputs": [
    {
     "data": {
      "text/plain": [
       "[{'audio_data/bass.wav': [-29.23212378417498,\n",
       "   2.322082301662614,\n",
       "   0.08056003319708448,\n",
       "   1.0070004149635559,\n",
       "   14.61606189208749]},\n",
       " {'audio_data/drums.wav': [-31.58236607671771,\n",
       "   2.296584664842215,\n",
       "   0.06542087190785704,\n",
       "   0.8177608988482131,\n",
       "   15.791183038358856]},\n",
       " {'audio_data/other.wav': [-28.144343585156264,\n",
       "   2.306755358828884,\n",
       "   0.044576284414640614,\n",
       "   0.5572035551830077,\n",
       "   14.072171792578132]},\n",
       " {'audio_data/vocals.wav': [-32.6305906963225,\n",
       "   2.295560586200297,\n",
       "   0.07366568865422522,\n",
       "   0.9208211081778153,\n",
       "   16.31529534816125]}]"
      ]
     },
     "execution_count": 7,
     "metadata": {},
     "output_type": "execute_result"
    }
   ],
   "source": [
    "comp"
   ]
  },
  {
   "cell_type": "code",
   "execution_count": 41,
   "metadata": {},
   "outputs": [
    {
     "name": "stdout",
     "output_type": "stream",
     "text": [
      "audio_data/bass.wav\n",
      "-29.23212378417498 2.322082301662614 0.08056003319708448 1.0070004149635559\n"
     ]
    }
   ],
   "source": [
    "for file, params in comp[0].items():\n",
    "    print(file)\n",
    "    print(params[0], params[1], params[2], params[3])\n",
    "#     for param in params:\n",
    "#         print(param)"
   ]
  },
  {
   "cell_type": "code",
   "execution_count": 8,
   "metadata": {},
   "outputs": [],
   "source": [
    "def done(t):\n",
    "    arr = np.asarray(t.getBuffer())"
   ]
  },
  {
   "cell_type": "code",
   "execution_count": 18,
   "metadata": {},
   "outputs": [],
   "source": [
    "def compress_signals(params_list, files, path, prefix, size, sr):\n",
    "    if not os.path.exists(path):\n",
    "        os.mkdir(path)\n",
    "    for i in range(len(params_list)):\n",
    "        file_params = params_list[i]\n",
    "        new_file_name = prefix + files[i]\n",
    "        full_file_path = list(file_params.keys())[0]\n",
    "        dur = sndinfo(full_file_path)[1]\n",
    "        filename = os.path.join(path, new_file_name)\n",
    "        s = Server(audio='offline').boot()\n",
    "        s.recordOptions(dur=dur, filename=filename)\n",
    "        for file, params in params_list[i].items():\n",
    "            out = SfPlayer(full_file_path)\n",
    "            out = Compress(out, thresh=params[0], ratio=params[1], risetime=params[2], falltime=params[3], knee=0.4).out()\n",
    "            s.start()\n",
    "            outp, rate = sf.read(filename)\n",
    "            inp, _ = sf.read(file)\n",
    "            meter = pyln.Meter(rate)\n",
    "            out_l = meter.integrated_loudness(outp)\n",
    "            inp_l = meter.integrated_loudness(inp)\n",
    "            makeup_gain = inp_l - out_l\n",
    "            compressed_signal = AudioSegment.from_wav(file)\n",
    "            compressed_signal = compressed_signal + makeup_gain\n",
    "            compressed_signal.export(filename, format=\"wav\")\n",
    "        s.shutdown()"
   ]
  },
  {
   "cell_type": "code",
   "execution_count": 19,
   "metadata": {},
   "outputs": [
    {
     "name": "stdout",
     "output_type": "stream",
     "text": [
      "Pyo message: Offline Server rendering file audio_data/test_bass.wav dur=44.040501\n",
      "Pyo message: Offline Server rendering finished.\n",
      "2.9407606223972778\n",
      "Pyo message: Offline Server rendering file audio_data/test_drums.wav dur=44.040501\n",
      "Pyo message: Offline Server rendering finished.\n",
      "4.8580225634136305\n",
      "Pyo message: Offline Server rendering file audio_data/test_other.wav dur=44.040501\n",
      "Pyo message: Offline Server rendering finished.\n",
      "3.9927935375364854\n",
      "Pyo message: Offline Server rendering file audio_data/test_vocals.wav dur=44.040501\n",
      "Pyo message: Offline Server rendering finished.\n",
      "7.815699718829784\n"
     ]
    }
   ],
   "source": [
    "compress_signals(comp, files, 'audio_data/', 'test_', y.shape[0], 44100)"
   ]
  },
  {
   "cell_type": "code",
   "execution_count": null,
   "metadata": {},
   "outputs": [],
   "source": []
  },
  {
   "cell_type": "code",
   "execution_count": null,
   "metadata": {},
   "outputs": [],
   "source": []
  },
  {
   "cell_type": "code",
   "execution_count": 13,
   "metadata": {},
   "outputs": [
    {
     "name": "stdout",
     "output_type": "stream",
     "text": [
      "Pyo warning: Portaudio input device `G Money Bose` has fewer channels (1) than requested (2).\n",
      "Pyo warning: Portmidi warning: no midi device found!\n",
      "Portmidi closed.\n"
     ]
    }
   ],
   "source": [
    "s = Server().boot()\n",
    "s.start()\n",
    "t = DataTable(size=1942186, chnls=1)\n",
    "out = SfPlayer(comp[0][0])\n",
    "out = Compress(out, thresh=comp[0][1], ratio=comp[0][2], risetime=comp[0][3], falltime=comp[0][4], knee=0.5)\n",
    "b = TableRec(out, t, 0).play()\n",
    "tf = TrigFunc(b[\"trig\"], function=done, arg=b)"
   ]
  },
  {
   "cell_type": "code",
   "execution_count": 14,
   "metadata": {},
   "outputs": [],
   "source": [
    "pyo_nump = np.asarray(t.getBuffer())"
   ]
  },
  {
   "cell_type": "code",
   "execution_count": 15,
   "metadata": {},
   "outputs": [
    {
     "data": {
      "text/plain": [
       "<_pyo.TableStream at 0x11c749570>"
      ]
     },
     "execution_count": 15,
     "metadata": {},
     "output_type": "execute_result"
    }
   ],
   "source": [
    "t.getBuffer()"
   ]
  },
  {
   "cell_type": "code",
   "execution_count": 16,
   "metadata": {},
   "outputs": [],
   "source": [
    "s.stop()\n",
    "s.shutdown()"
   ]
  },
  {
   "cell_type": "code",
   "execution_count": 20,
   "metadata": {},
   "outputs": [],
   "source": [
    "sf.write('test.wav', pyo_nump, 44100)"
   ]
  },
  {
   "cell_type": "code",
   "execution_count": 21,
   "metadata": {},
   "outputs": [],
   "source": [
    "out, rate = sf.read(\"test.wav\")\n",
    "inp, _ = sf.read(signals[0])"
   ]
  },
  {
   "cell_type": "code",
   "execution_count": 22,
   "metadata": {},
   "outputs": [],
   "source": [
    "meter = pyln.Meter(rate)"
   ]
  },
  {
   "cell_type": "code",
   "execution_count": 23,
   "metadata": {},
   "outputs": [],
   "source": [
    "out_l = meter.integrated_loudness(out)\n",
    "inp_l = meter.integrated_loudness(inp)"
   ]
  },
  {
   "cell_type": "code",
   "execution_count": 24,
   "metadata": {},
   "outputs": [
    {
     "data": {
      "text/plain": [
       "5.784039875993631"
      ]
     },
     "execution_count": 24,
     "metadata": {},
     "output_type": "execute_result"
    }
   ],
   "source": [
    "inp_l - out_l"
   ]
  },
  {
   "cell_type": "code",
   "execution_count": 25,
   "metadata": {},
   "outputs": [
    {
     "data": {
      "text/plain": [
       "1.2231500997731262"
      ]
     },
     "execution_count": 25,
     "metadata": {},
     "output_type": "execute_result"
    }
   ],
   "source": [
    "out_l / inp_l"
   ]
  },
  {
   "cell_type": "code",
   "execution_count": 27,
   "metadata": {},
   "outputs": [
    {
     "data": {
      "text/plain": [
       "-25.91995200483527"
      ]
     },
     "execution_count": 27,
     "metadata": {},
     "output_type": "execute_result"
    }
   ],
   "source": [
    "inp_l"
   ]
  },
  {
   "cell_type": "code",
   "execution_count": 72,
   "metadata": {},
   "outputs": [],
   "source": [
    "# pyo_y = librosa.load(pyo_nump, sr=44100)"
   ]
  },
  {
   "cell_type": "code",
   "execution_count": 106,
   "metadata": {},
   "outputs": [],
   "source": [
    "def cf_rms(signal):\n",
    "    rms = librosa.feature.rms(signal, frame_length=1024, hop_length=512)\n",
    "    rms_db = np.mean(librosa.amplitude_to_db(rms))\n",
    "    D = np.abs(librosa.core.stft(signal, n_fft=1024, hop_length=512))\n",
    "    peak_db = librosa.amplitude_to_db(np.sum(D, axis=0)).max()\n",
    "    cf = peak_db / rms_db\n",
    "#     y_fft = np.sum(np.abs(librosa.core.stft(signal, n_fft=1024, hop_length=512)), axis=0)\n",
    "#     peak = y_fft.max()\n",
    "#     rms = np.sum((librosa.feature.rms(signal, frame_length=1024, hop_length=512)))\n",
    "    return cf, rms_db"
   ]
  },
  {
   "cell_type": "code",
   "execution_count": null,
   "metadata": {},
   "outputs": [],
   "source": [
    "def cfavg1(signals):\n",
    "    sum = 0\n",
    "    for sig in signals:\n",
    "        cfs = cf(sig)\n",
    "        sum += cfs\n",
    "    return sum / len(signals)"
   ]
  },
  {
   "cell_type": "code",
   "execution_count": 113,
   "metadata": {},
   "outputs": [
    {
     "data": {
      "text/plain": [
       "3.091008424758911"
      ]
     },
     "execution_count": 113,
     "metadata": {},
     "output_type": "execute_result"
    }
   ],
   "source": [
    "(cf_rms(y)[0] + cf_rms(y1)[0] + cf_rms(y2)[0] + cf_rms(y3)[0]) / 4"
   ]
  },
  {
   "cell_type": "code",
   "execution_count": 107,
   "metadata": {},
   "outputs": [
    {
     "data": {
      "text/plain": [
       "(0.86594707, 157.15323)"
      ]
     },
     "execution_count": 107,
     "metadata": {},
     "output_type": "execute_result"
    }
   ],
   "source": [
    "cf_rms(y)"
   ]
  },
  {
   "cell_type": "code",
   "execution_count": 96,
   "metadata": {},
   "outputs": [
    {
     "data": {
      "text/plain": [
       "0.6188622553137013"
      ]
     },
     "execution_count": 96,
     "metadata": {},
     "output_type": "execute_result"
    }
   ],
   "source": [
    "s1 = cf(signals[0], sr)\n",
    "((s1 - cfa)**2) / (2*(2**2))"
   ]
  },
  {
   "cell_type": "code",
   "execution_count": 97,
   "metadata": {},
   "outputs": [
    {
     "data": {
      "text/plain": [
       "0.6872148967262959"
      ]
     },
     "execution_count": 97,
     "metadata": {},
     "output_type": "execute_result"
    }
   ],
   "source": [
    "s2 = cf(signals[1], sr)\n",
    "((s2 - cfa)**2) / (2*(2**2))"
   ]
  },
  {
   "cell_type": "code",
   "execution_count": 98,
   "metadata": {},
   "outputs": [
    {
     "data": {
      "text/plain": [
       "0.0780190848786333"
      ]
     },
     "execution_count": 98,
     "metadata": {},
     "output_type": "execute_result"
    }
   ],
   "source": [
    "s3 = cf(signals[2], sr)\n",
    "((s3 - cfa)**2) / (2*(2**2))"
   ]
  },
  {
   "cell_type": "code",
   "execution_count": 99,
   "metadata": {},
   "outputs": [
    {
     "data": {
      "text/plain": [
       "0.05617494872473827"
      ]
     },
     "execution_count": 99,
     "metadata": {},
     "output_type": "execute_result"
    }
   ],
   "source": [
    "s4 = cf(signals[3], sr)\n",
    "((s4 - cfa)**2) / (2*(2**2))"
   ]
  },
  {
   "cell_type": "code",
   "execution_count": 25,
   "metadata": {},
   "outputs": [],
   "source": [
    "s.stop()"
   ]
  },
  {
   "cell_type": "code",
   "execution_count": 26,
   "metadata": {},
   "outputs": [],
   "source": [
    "s.shutdown()"
   ]
  },
  {
   "cell_type": "code",
   "execution_count": null,
   "metadata": {},
   "outputs": [],
   "source": [
    "def done():\n",
    "    # call when the recording is finished.\n",
    "    # do your offline processing here...\n",
    "    arr = np.asarray(t.getBuffer())\n",
    "\n",
    "t = DataTable(size=1942186, chnls=1)\n",
    "# load soundfile\n",
    "# do compression with model returned parameters\n",
    "# table record it into numpy array\n",
    "# calculate its loudness\n",
    "# use the makeup gain formula to calculate make up gain needed\n",
    "# add the makeup gain to the compressed pyo object\n",
    "a = Sine(1000, mul=0.5)\n",
    "b = TableRec(a, t, 0.01).play()\n",
    "tf = TrigFunc(b[\"trig\"], function=done)"
   ]
  }
 ],
 "metadata": {
  "kernelspec": {
   "display_name": "Python 3",
   "language": "python",
   "name": "python3"
  },
  "language_info": {
   "codemirror_mode": {
    "name": "ipython",
    "version": 3
   },
   "file_extension": ".py",
   "mimetype": "text/x-python",
   "name": "python",
   "nbconvert_exporter": "python",
   "pygments_lexer": "ipython3",
   "version": "3.5.6"
  }
 },
 "nbformat": 4,
 "nbformat_minor": 4
}
