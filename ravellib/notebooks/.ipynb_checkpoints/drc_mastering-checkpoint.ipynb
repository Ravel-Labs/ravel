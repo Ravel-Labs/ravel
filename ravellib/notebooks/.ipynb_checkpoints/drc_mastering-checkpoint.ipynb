{
 "cells": [
  {
   "cell_type": "code",
   "execution_count": 1,
   "metadata": {},
   "outputs": [],
   "source": [
    "import numpy as np\n",
    "from scipy.signal import butter, lfilter, freqz\n",
    "import matplotlib.pyplot as plt\n",
    "import torch\n",
    "from torch import nn\n",
    "from torch.autograd import Variable\n",
    "from torch.utils.data import DataLoader, TensorDataset\n",
    "from preprocessing import *\n",
    "%matplotlib inline\n",
    "%load_ext autoreload\n",
    "%autoreload 2"
   ]
  },
  {
   "cell_type": "markdown",
   "metadata": {},
   "source": [
    "### Good Links\n",
    "[Loading Numpy Dataset into PyTorch](https://stackoverflow.com/questions/44429199/how-to-load-a-list-of-numpy-arrays-to-pytorch-dataset-loader) </br>\n",
    "[TorchAudio](https://pytorch.org/audio/) </br>\n",
    "[PyTorch Autoencoder Example](https://github.com/ReyhaneAskari/pytorch_experiments/blob/master/AE.py) </br>\n",
    "[Simple Autoencoders Resource](https://reyhaneaskari.github.io/AE.htm) </br>\n",
    "[Deep Learning Book - Autoencoders](https://www.deeplearningbook.org/contents/autoencoders.html) </br>"
   ]
  },
  {
   "cell_type": "code",
   "execution_count": 13,
   "metadata": {},
   "outputs": [
    {
     "data": {
      "text/plain": [
       "'Philla'"
      ]
     },
     "execution_count": 13,
     "metadata": {},
     "output_type": "execute_result"
    }
   ],
   "source": [
    "full_file_scraper('../drc_mix')[0].split('/')[-1].split()[0]"
   ]
  },
  {
   "cell_type": "code",
   "execution_count": 4,
   "metadata": {},
   "outputs": [
    {
     "data": {
      "text/plain": [
       "'../drc_master/Как батя_Master.wav'"
      ]
     },
     "execution_count": 4,
     "metadata": {},
     "output_type": "execute_result"
    }
   ],
   "source": [
    "full_file_scraper('../drc_master')[0]"
   ]
  },
  {
   "cell_type": "code",
   "execution_count": 25,
   "metadata": {},
   "outputs": [],
   "source": [
    "def match_files(path1, path2):\n",
    "    pairs = []\n",
    "    files1 = full_file_scraper(path1)\n",
    "    files2 = full_file_scraper(path2)\n",
    "    for file1 in files1:\n",
    "        for file2 in files2:\n",
    "            if file1.split('/')[-1].split()[0] == file2.split('/')[-1].split()[0]:\n",
    "                pairs.append([file1, file2])\n",
    "    return pairs"
   ]
  },
  {
   "cell_type": "code",
   "execution_count": 79,
   "metadata": {},
   "outputs": [
    {
     "data": {
      "text/plain": [
       "['../drc_mix/Philla Del Blues_mix only.wav',\n",
       " '../drc_master/Philla Del Blues_1.wav']"
      ]
     },
     "execution_count": 79,
     "metadata": {},
     "output_type": "execute_result"
    }
   ],
   "source": [
    "match_files('../drc_mix', '../drc_master')[0]"
   ]
  },
  {
   "cell_type": "code",
   "execution_count": 8,
   "metadata": {},
   "outputs": [],
   "source": [
    "x = Signal(path='../Downloads/test_audio.wav', n_fft=4096, window_size=2049, hop_length=1025)"
   ]
  },
  {
   "cell_type": "code",
   "execution_count": 9,
   "metadata": {},
   "outputs": [],
   "source": [
    "x, _ = librosa.core.load('../drc_mix/Philla Del Blues_mix only.wav')\n",
    "y, _ = librosa.core.load('../drc_master/Philla Del Blues_1.wav')"
   ]
  },
  {
   "cell_type": "code",
   "execution_count": 18,
   "metadata": {},
   "outputs": [],
   "source": [
    "W = calc_W(C=52, M=1291, a_0=1.5, a_1=0.79, fs=44100)"
   ]
  },
  {
   "cell_type": "code",
   "execution_count": 19,
   "metadata": {},
   "outputs": [
    {
     "name": "stdout",
     "output_type": "stream",
     "text": [
      "(2049, 1291)\n",
      "(2049, 1291)\n"
     ]
    }
   ],
   "source": [
    "X_w = calc_X_w(x, W, n_fft=4096, window_size=2049, hop_length=1025, R=0.5, fs=44100, n=0, seconds=30)\n",
    "Y_w = calc_X_w(y, W, n_fft=4096, window_size=2049, hop_length=1025, \n",
    "                  R=0.5, fs=44100, n=0, seconds=30)"
   ]
  },
  {
   "cell_type": "code",
   "execution_count": 22,
   "metadata": {},
   "outputs": [
    {
     "data": {
      "text/plain": [
       "array([[0.92092278, 0.92338417, 0.91613407, ..., 1.012404  , 1.00346273,\n",
       "        0.99240868],\n",
       "       [0.93096437, 0.93003877, 0.91999607, ..., 1.00570942, 0.99497141,\n",
       "        0.98373429],\n",
       "       [0.82549916, 0.86887409, 0.87552207, ..., 0.99976871, 0.99457917,\n",
       "        0.98901584],\n",
       "       ...,\n",
       "       [0.95647822, 0.95358076, 0.96527449, ..., 1.07793093, 1.06582968,\n",
       "        1.0520662 ],\n",
       "       [0.94903033, 0.94967441, 0.96705396, ..., 1.00620943, 0.98756327,\n",
       "        0.95898167],\n",
       "       [0.94747092, 0.95227417, 0.96414113, ..., 0.98257651, 1.01900718,\n",
       "        0.99037505]])"
      ]
     },
     "execution_count": 22,
     "metadata": {},
     "output_type": "execute_result"
    }
   ],
   "source": [
    "compute_R(X_w, Y_w)"
   ]
  },
  {
   "cell_type": "code",
   "execution_count": 19,
   "metadata": {},
   "outputs": [
    {
     "data": {
      "text/plain": [
       "(array([[1635.73994239, 1952.85836842, 2724.13853839, ...,  508.87249468,\n",
       "          492.25012097,  417.23380397],\n",
       "        [ 409.83623595,  412.54409491,  360.2373851 , ...,   55.33205467,\n",
       "           50.12108999,   43.48302717],\n",
       "        [  41.27580497,   42.40326406,   44.83530969, ..., 1002.24154416,\n",
       "         1024.44562907, 1039.19611007],\n",
       "        [1110.89409667, 1158.35511622, 1171.69864994, ...,  570.24857358,\n",
       "          580.90850791,  629.03880454],\n",
       "        [ 658.24635473,  634.55564938,  595.85104589, ...,   43.96404128,\n",
       "            0.        ,    0.        ]]),\n",
       " array([[1.61844210e+00, 1.02976481e+01, 2.77040969e+01, ...,\n",
       "         5.43489241e+00, 2.77040969e+01, 1.02976481e+01],\n",
       "        [1.27118235e+01, 2.13160239e+01, 4.85771138e+01, ...,\n",
       "         1.78066239e+01, 4.85771138e+01, 2.13160239e+01],\n",
       "        [1.11927836e+01, 1.60767425e+01, 5.70662844e+01, ...,\n",
       "         3.97114875e+01, 5.70662844e+01, 1.60767425e+01],\n",
       "        ...,\n",
       "        [3.74678504e-03, 3.74492346e-03, 3.66505736e-03, ...,\n",
       "         3.81339169e-03, 3.66505736e-03, 3.74492346e-03],\n",
       "        [1.18434516e-02, 1.18453384e-02, 1.19188358e-02, ...,\n",
       "         1.17842787e-02, 1.19188358e-02, 1.18453384e-02],\n",
       "        [9.17810302e-03, 9.17655675e-03, 9.10921093e-03, ...,\n",
       "         9.23474344e-03, 9.10921093e-03, 9.17655675e-03]]))"
      ]
     },
     "execution_count": 19,
     "metadata": {},
     "output_type": "execute_result"
    }
   ],
   "source": [
    "calc_X_w(x, n_fft=4096, window_size=2049, hop_length=1025, R=0.5, a_0=1.5, a_1=0.79, fs=44100, C=52, n=0, seconds=30)"
   ]
  },
  {
   "cell_type": "code",
   "execution_count": 63,
   "metadata": {},
   "outputs": [
    {
     "data": {
      "text/plain": [
       "(5, 21310)"
      ]
     },
     "execution_count": 63,
     "metadata": {},
     "output_type": "execute_result"
    }
   ],
   "source": [
    "min_max_normalization(X_w).shape"
   ]
  },
  {
   "cell_type": "code",
   "execution_count": 4,
   "metadata": {},
   "outputs": [
    {
     "data": {
      "text/plain": [
       "(2049, 1981)"
      ]
     },
     "execution_count": 4,
     "metadata": {},
     "output_type": "execute_result"
    }
   ],
   "source": [
    "x.fft.shape"
   ]
  },
  {
   "cell_type": "code",
   "execution_count": 32,
   "metadata": {},
   "outputs": [],
   "source": [
    "def butter_bandpass(lowcut, highcut, fs, order):\n",
    "    nyq = 0.5 * fs\n",
    "    low = lowcut / nyq\n",
    "    high = highcut / nyq\n",
    "    b, a = butter(order, [low, high], btype='band', analog=False)\n",
    "    return b, a\n",
    "\n",
    "def rms_normalization(x, R):\n",
    "    \"\"\"Calculate scalar for signal on a linear scale\"\"\"\n",
    "    n = x.shape[0]\n",
    "    a = np.sqrt((n * R**2) / np.sum(x**2))\n",
    "    return a\n",
    "\n",
    "def min_max_normalization(x, min_value, max_value):\n",
    "    min_x = x.min()\n",
    "    max_x = x.max()\n",
    "    x_prime = (x - min_x)\n",
    "    x_prime = x_prime / max_x\n",
    "    x_prime = x_prime * (max_value - min_value) + min_value\n",
    "    return x_prime\n",
    "\n",
    "def mean_normalization(x):\n",
    "    mu = x.mean()\n",
    "    min_x = x.min()\n",
    "    max_x = x.max()\n",
    "    x_prime = (x - mu) / (max_x - min_x)\n",
    "    return x_prime\n",
    "\n",
    "def calc_X_w(x, W, n_fft, window_size, hop_length, R, fs, n, seconds):\n",
    "    x_sig = x[fs*seconds*n:fs*seconds*(n+1)]\n",
    "    X = np.abs(librosa.stft(x_sig, n_fft=n_fft, win_length=window_size, hop_length=hop_length))\n",
    "#     print({'X': X.shape})\n",
    "    A = rms_normalization(x_sig, R)\n",
    "    X = A * X\n",
    "    if W.shape[1] == X.shape[1]:\n",
    "        X_w = np.matmul(W, X.T)\n",
    "        return X_w\n",
    "\n",
    "def calc_W(C, M, a_0, a_1, fs):\n",
    "    W = np.zeros((C, M))\n",
    "    for c in range(52):\n",
    "        f_c = 229 * (10**((a_1*c + a_0)/21.4) - 1)\n",
    "        b_c = 0.108*f_c + 24.7\n",
    "        b_half = b_c / 2\n",
    "        low = f_c - b_half\n",
    "        high = f_c + b_half\n",
    "        b, a = butter_bandpass(low, high, fs, order=2)\n",
    "        w, h = freqz(b, a, worN=M)\n",
    "        W[c] = np.abs(h)\n",
    "    return W\n",
    "\n",
    "def compute_yhat(Y_w, X_w, W, R, hop_length, window_size):\n",
    "    Y = np.matmul(W.T, (Y_w*R))\n",
    "    X = np.matmul(W.T, (X_w*R))\n",
    "    G = sigmoid(b, (Y/X))\n",
    "    X_G = X * G\n",
    "    Y_hat = librosa.core.istft(X_G, hop_length=hop_length, win_length=window_size)\n",
    "    return Y_hat\n",
    "    \n",
    "    \n",
    "def sigmoid(b, x): return 2 / (1 + np.exp(-b*x))\n",
    "\n",
    "def compute_R(Y_w, X_w): return np.log10(Y_w) * (np.log10(X_w))**-1"
   ]
  },
  {
   "cell_type": "code",
   "execution_count": 8,
   "metadata": {},
   "outputs": [
    {
     "data": {
      "text/plain": [
       "array([[0.00000000e+00, 5.92617446e-02, 4.07905642e-01, ...,\n",
       "        2.26244678e-11, 1.00552993e-11, 2.51382188e-12],\n",
       "       [0.00000000e+00, 8.32399435e-03, 4.04584831e-02, ...,\n",
       "        2.68224951e-11, 1.19210856e-11, 2.98026789e-12],\n",
       "       [0.00000000e+00, 2.32338060e-03, 1.01940145e-02, ...,\n",
       "        3.17995013e-11, 1.41330840e-11, 3.53326685e-12],\n",
       "       ...,\n",
       "       [0.00000000e+00, 1.35237826e-08, 5.40952189e-08, ...,\n",
       "        7.09614659e-06, 3.15369523e-06, 7.88401653e-07],\n",
       "       [0.00000000e+00, 1.40110547e-08, 5.60442957e-08, ...,\n",
       "        3.99525547e-05, 1.77547988e-05, 4.43841592e-06],\n",
       "       [0.00000000e+00, 1.52027781e-08, 6.08111858e-08, ...,\n",
       "        1.61738699e-03, 7.18378913e-04, 1.79525749e-04]])"
      ]
     },
     "execution_count": 8,
     "metadata": {},
     "output_type": "execute_result"
    }
   ],
   "source": [
    "calc_W(52, 2049, 1.5, 0.79, 44100)"
   ]
  },
  {
   "cell_type": "code",
   "execution_count": 37,
   "metadata": {},
   "outputs": [],
   "source": [
    "class Autoencoder_Xw(nn.Module):\n",
    "    def __init__(self):\n",
    "        super(Autoencoder_Xw, self).__init__()\n",
    "        self.encoder = nn.Sequential(\n",
    "        nn.Linear(106548, 260),\n",
    "        nn.Dropout(0.3),\n",
    "        nn.ReLU(True),\n",
    "        nn.Linear(260, 260),\n",
    "        nn.Dropout(0.3),\n",
    "        nn.ReLU(True))\n",
    "        self.decoder = nn.Sequential(\n",
    "        nn.Linear(260, 260),\n",
    "        nn.Dropout(0.3),\n",
    "        nn.ReLU(True),\n",
    "        nn.Linear(260, 260),\n",
    "        nn.Dropout(0.3),\n",
    "        nn.ReLU(True),\n",
    "        nn.Linear(260, 106548))\n",
    "        \n",
    "    def forward(self, x):\n",
    "        x = self.encoder(x)\n",
    "        x = self.decoder(x)\n",
    "        return x\n",
    "    \n",
    "class Autoencoder_R(nn.Module):\n",
    "    def __init__(self):\n",
    "        super(Autoencoder_R, self).__init__()\n",
    "        self.encoder = nn.Sequential(\n",
    "        nn.Linear(106548, 260),\n",
    "        nn.Dropout(0.3),\n",
    "        nn.ReLU(True),\n",
    "        nn.Linear(260, 350),\n",
    "        nn.Dropout(0.3),\n",
    "        nn.ReLU(True))\n",
    "        self.decoder = nn.Sequential(\n",
    "        nn.Linear(350, 260),\n",
    "        nn.Dropout(0.3),\n",
    "        nn.Linear(260, 106548))\n",
    "        \n",
    "    def forward(self, x):\n",
    "        x = self.encoder(x)\n",
    "        x = self.decoder(x)\n",
    "        return x\n",
    "\n",
    "class DNN(nn.Module):\n",
    "    def __init__(self):\n",
    "        super(DNN, self).__init__()\n",
    "        self.layer = nn.Sequential(\n",
    "            nn.Linear(106548, 260),\n",
    "            nn.ReLU(True),\n",
    "            nn.Linear(260, 260),\n",
    "            nn.ReLU(True),\n",
    "            nn.Linear(260, 260),\n",
    "            nn.ReLU(True),\n",
    "            nn.Linear(260, 260),\n",
    "            nn.ReLU(True),\n",
    "            nn.Linear(260, 106548),\n",
    "            nn.Linear(106548, 260),\n",
    "            nn.ReLU(True),\n",
    "            nn.Linear(260, 350),\n",
    "            nn.ReLU(True),\n",
    "            nn.Linear(350, 260),\n",
    "            nn.Linear(260, 106548))\n",
    "    \n",
    "    def forward(self, x):\n",
    "        x = self.layer(x)\n",
    "        return x\n",
    "        \n",
    "# class DNN(nn.Module):\n",
    "#     # seperate into two models (ensemble) to allow easier sharing of model parameters into model\n",
    "#     # https://discuss.pytorch.org/t/combining-trained-models-in-pytorch/28383/2\n",
    "#     def __init__(self, DNN1, DNN2):\n",
    "#         super(DNN, self).__init__()\n",
    "#         self.DNN1 = DNN1\n",
    "#         self.DNN2 = DNN2\n",
    "        \n",
    "#     def forward(self, x):\n",
    "#         x = self.DNN1(x)\n",
    "#         x = self.DNN2(x)\n",
    "#         return x\n",
    "            \n",
    "def load_data(path1, path2, warp_path, R_path, np_save, n_fft=4096, window_size=2049, \n",
    "              hop_length=1025, R=0.5, a_0=1.5, a_1=0.79, C=52, M=1291, seconds=30, fs=44100):        \n",
    "    if np_save:\n",
    "        file_pairs = match_files(path1, path2)\n",
    "        X_w_list = []\n",
    "        R_list = []\n",
    "        W = calc_W(C, M, a_0, a_1, fs)\n",
    "        for file_pair in file_pairs:\n",
    "            mix_sig, _ = librosa.core.load(file_pair[0], sr=44100)\n",
    "            master_sig, _ = librosa.core.load(file_pair[1], sr=44100)\n",
    "            num_segments = int(mix_sig.shape[0] / (fs * 30))\n",
    "            for n in range(num_segments):\n",
    "                X_w = calc_X_w(mix_sig, W, n_fft, window_size, hop_length, R, fs, n, seconds)\n",
    "                Y_w = calc_X_w(master_sig, W, n_fft, window_size, hop_length, R, fs, n, seconds)\n",
    "                if (Y_w is not None) & (X_w is not None):\n",
    "                    R_exp = compute_R(Y_w, X_w)\n",
    "                    R_exp = librosa.util.normalize(R_exp)\n",
    "                    X_w = librosa.util.normalize(X_w)\n",
    "                    X_w_list.append(X_w)\n",
    "                    R_list.append(R_exp)\n",
    "        np.save(warp_path, X_w_list)\n",
    "        np.save(R_path, R_list)\n",
    "    else:\n",
    "        X_w_list = np.load(warp_path)\n",
    "        R_list = np.load(R_path)\n",
    "    X_ws = torch.Tensor(X_w_list)\n",
    "    Rs = torch.Tensor(R_list)\n",
    "    return X_ws, Rs\n",
    "                \n",
    "def save_model(model, path): torch.save(model.state_dict(), path)\n",
    "    \n",
    "# def upload_Xw_R_params(model_Xw_R, path_Xw, path_R):\n",
    "#     model_Xw = Autoencoder_Xw\n",
    "#     model_Xw.load_state_dict(torch.load(path_Xw), strict=False)\n",
    "#     model_R = Autoencoder_R\n",
    "#     model_R.load_state_dict(torch.load(path_R), strict=False)\n",
    "#     print(model_R.state_dict())\n",
    "#     combined = model_Xw.state_dict().update(model_R.state_dict())\n",
    "#     model_Xw.state_dict().update(model_R.state_dict())\n",
    "#     print({\"combined\": combined})\n",
    "#     for param_tensor in model_Xw.state_dict():\n",
    "#         print(param_tensor, \"\\t\", model_Xw.state_dict()[param_tensor].size())\n",
    "# #     torch.save()\n",
    "#     model_Xw_R.load_state_dict(state_dict=model_Xw.state_dict())\n",
    "    \n",
    "def train(model_type, dataset, batch_size, num_epochs, lr, weight_decay, path, dnn, param_list=[]):\n",
    "    dataloader = DataLoader(dataset, batch_size=batch_size, shuffle=True)\n",
    "    if dnn == True:\n",
    "        model = model_type()\n",
    "        model.load_state_dict(torch.load(param_list[0]))\n",
    "    else:\n",
    "        model = model_type()\n",
    "    criterion = nn.MSELoss()\n",
    "    optimizer = torch.optim.Adam(\n",
    "    model.parameters(), lr=lr, weight_decay=weight_decay)      \n",
    "    for epoch in range(num_epochs):\n",
    "        for data in dataloader:\n",
    "            sig = data\n",
    "            sig = sig.view(sig.size(0), -1)\n",
    "            sig = Variable(sig)\n",
    "            output = model(sig)\n",
    "            loss = criterion(output, sig)\n",
    "            optimizer.zero_grad()\n",
    "            loss.backward()\n",
    "            torch.nn.utils.clip_grad_norm_(model.parameters(), 0.5)\n",
    "            optimizer.step()\n",
    "            \n",
    "        print('epoch [{}/{}], loss:{:.4f}'.format(epoch + 1, num_epochs, loss.data))\n",
    "    torch.save(model.state_dict(), path)"
   ]
  },
  {
   "cell_type": "code",
   "execution_count": 42,
   "metadata": {},
   "outputs": [],
   "source": [
    "from collections import OrderedDict"
   ]
  },
  {
   "cell_type": "code",
   "execution_count": 43,
   "metadata": {},
   "outputs": [],
   "source": [
    "new_keys = [\"layer.0.weight\", \"layer.0.bias\", \"layer.2.weight\", \"layer.2.bias\", \n",
    " \"layer.4.weight\", \"layer.4.bias\", \"layer.6.weight\", \"layer.6.bias\", \n",
    " \"layer.8.weight\", \"layer.8.bias\", \"layer.9.weight\", \"layer.9.bias\", \n",
    " \"layer.11.weight\", \"layer.11.bias\", \"layer.13.weight\", \"layer.13.bias\", \n",
    " \"layer.14.weight\", \"layer.14.bias\"]"
   ]
  },
  {
   "cell_type": "code",
   "execution_count": 48,
   "metadata": {},
   "outputs": [
    {
     "data": {
      "text/plain": [
       "(10, 8, 18)"
      ]
     },
     "execution_count": 48,
     "metadata": {},
     "output_type": "execute_result"
    }
   ],
   "source": [
    "len(torch.load('ae_xw.pth').keys()), len(torch.load('ae_R.pth').keys()), len(new_keys)"
   ]
  },
  {
   "cell_type": "code",
   "execution_count": 50,
   "metadata": {},
   "outputs": [],
   "source": [
    "xw_sd = torch.load('ae_xw.pth')\n",
    "r_sd = torch.load('ae_R.pth')\n",
    "sd = OrderedDict()\n",
    "for i, (k, v) in enumerate(xw_sd.items()):\n",
    "    name = new_keys[i]\n",
    "    sd[name] = v\n",
    "for i, (k, v) in enumerate(r_sd.items(), start=10):\n",
    "    name = new_keys[i]\n",
    "    sd[name] = v"
   ]
  },
  {
   "cell_type": "code",
   "execution_count": 55,
   "metadata": {},
   "outputs": [],
   "source": [
    "torch.save(sd, 'dnn_XwR.pth')"
   ]
  },
  {
   "cell_type": "code",
   "execution_count": 53,
   "metadata": {},
   "outputs": [
    {
     "name": "stdout",
     "output_type": "stream",
     "text": [
      "layer.0.weight torch.Size([260, 106548])\n",
      "layer.0.bias torch.Size([260])\n",
      "layer.2.weight torch.Size([260, 260])\n",
      "layer.2.bias torch.Size([260])\n",
      "layer.4.weight torch.Size([260, 260])\n",
      "layer.4.bias torch.Size([260])\n",
      "layer.6.weight torch.Size([260, 260])\n",
      "layer.6.bias torch.Size([260])\n",
      "layer.8.weight torch.Size([106548, 260])\n",
      "layer.8.bias torch.Size([106548])\n",
      "layer.9.weight torch.Size([260, 106548])\n",
      "layer.9.bias torch.Size([260])\n",
      "layer.11.weight torch.Size([350, 260])\n",
      "layer.11.bias torch.Size([350])\n",
      "layer.13.weight torch.Size([260, 350])\n",
      "layer.13.bias torch.Size([260])\n",
      "layer.14.weight torch.Size([106548, 260])\n",
      "layer.14.bias torch.Size([106548])\n"
     ]
    }
   ],
   "source": [
    "for k, v in sd.items():\n",
    "    print(k, v.size())\n"
   ]
  },
  {
   "cell_type": "code",
   "execution_count": 70,
   "metadata": {},
   "outputs": [],
   "source": [
    "dnn_sd = torch.load('dnn1.pth')\n",
    "new_keys = [\"layer.0.weight\", \"layer.0.bias\", \"layer.2.weight\", \"layer.2.bias\", \n",
    " \"layer.4.weight\", \"layer.4.bias\", \"layer.6.weight\", \"layer.6.bias\", \n",
    " \"layer.8.weight\", \"layer.8.bias\", \"layer.9.weight\", \"layer.9.bias\", \n",
    " \"layer.11.weight\", \"layer.11.bias\", \"layer.13.weight\", \"layer.13.bias\", \n",
    " \"layer.14.weight\", \"layer.14.bias\"]\n",
    "new_state_dict = OrderedDict()\n",
    "for i, (k, v) in enumerate(dnn_sd.items()):\n",
    "    name = new_keys[i]\n",
    "    new_state_dict[name] = v\n",
    "torch.save(new_state_dict, 'dnn_XwR.pth')"
   ]
  },
  {
   "cell_type": "code",
   "execution_count": 67,
   "metadata": {},
   "outputs": [],
   "source": [
    "sd = torch.load('ae_xw.pth')\n",
    "sd1 = torch.load('ae_R.pth')\n",
    "vs = []\n",
    "for k, v in sd.items():\n",
    "#     print(k, v.size())\n",
    "    vs.append(v.size())\n",
    "for k, v in sd1.items():\n",
    "#     print(k, v.size())\n",
    "    vs.append(v.size())"
   ]
  },
  {
   "cell_type": "code",
   "execution_count": 68,
   "metadata": {},
   "outputs": [
    {
     "name": "stdout",
     "output_type": "stream",
     "text": [
      "layer.0.bias torch.Size([260, 106548])\n",
      "layer.0.weight torch.Size([260])\n",
      "layer.2.bias torch.Size([260, 260])\n",
      "layer.2.weight torch.Size([260])\n",
      "layer.4.bias torch.Size([260, 260])\n",
      "layer.4.weight torch.Size([260])\n",
      "layer.6.bias torch.Size([260, 260])\n",
      "layer.6.weight torch.Size([260])\n",
      "layer.8.bias torch.Size([106548, 260])\n",
      "layer.8.weight torch.Size([106548])\n",
      "layer.9.bias torch.Size([260, 106548])\n",
      "layer.9.weight torch.Size([260])\n",
      "layer.11.bias torch.Size([350, 260])\n",
      "layer.11.weight torch.Size([350])\n",
      "layer.13.bias torch.Size([260, 350])\n",
      "layer.13.weight torch.Size([260])\n",
      "layer.14.bias torch.Size([106548, 260])\n",
      "layer.14.weight torch.Size([106548])\n"
     ]
    }
   ],
   "source": [
    "sd = torch.load('dnn_XwR.pth')\n",
    "vdnn = []\n",
    "for k, v in sd.items():\n",
    "    print(k, v.size())\n",
    "    vdnn.append(v.size())"
   ]
  },
  {
   "cell_type": "code",
   "execution_count": 69,
   "metadata": {},
   "outputs": [
    {
     "data": {
      "text/plain": [
       "True"
      ]
     },
     "execution_count": 69,
     "metadata": {},
     "output_type": "execute_result"
    }
   ],
   "source": [
    "vs == vdnn"
   ]
  },
  {
   "cell_type": "code",
   "execution_count": 127,
   "metadata": {},
   "outputs": [],
   "source": [
    "xp, yp = match_files('../drc_mix', '../drc_master')[1]\n",
    "x, fs = librosa.core.load(xp, sr=44100)\n",
    "y, _ = librosa.core.load(yp, sr=44100)\n",
    "W = calc_W(C=52, M=1291, a_0=1.5, a_1=0.79, fs=44100)\n",
    "X_w = calc_X_w(x, W, n_fft=4096, window_size=2049, hop_length=1025, \n",
    "                  R=0.5, fs=44100, n=1, seconds=30)\n",
    "Y_w = calc_X_w(y, W, n_fft=4096, window_size=2049, hop_length=1025, \n",
    "                  R=0.5, fs=44100,n=1, seconds=30)\n",
    "Xw_norm = librosa.util.normalize(X_w)\n",
    "Yw_norm = librosa.util.normalize(Y_w)\n",
    "Xw_tensor = torch.Tensor(Xw_norm)\n",
    "Yw_tensor = torch.Tensor(Yw_norm)"
   ]
  },
  {
   "cell_type": "code",
   "execution_count": 59,
   "metadata": {},
   "outputs": [
    {
     "data": {
      "text/plain": [
       "(52, 2049)"
      ]
     },
     "execution_count": 59,
     "metadata": {},
     "output_type": "execute_result"
    }
   ],
   "source": [
    "Xw_norm.shape"
   ]
  },
  {
   "cell_type": "code",
   "execution_count": 128,
   "metadata": {},
   "outputs": [],
   "source": [
    "# Xw_tensor.size()\n",
    "tens_x = Xw_tensor.view(1, -1)\n",
    "tens_y = Yw_tensor.view(1, -1)"
   ]
  },
  {
   "cell_type": "code",
   "execution_count": 56,
   "metadata": {},
   "outputs": [],
   "source": [
    "# torch.load('dnn1.pth')\n",
    "# torch.load('ae_R.pth')"
   ]
  },
  {
   "cell_type": "code",
   "execution_count": 129,
   "metadata": {},
   "outputs": [],
   "source": [
    "model = DNN()\n",
    "model.load_state_dict(torch.load('dnn.pth'))\n",
    "# model.load_state_dict(new_state_dict)\n",
    "# for p in model.named_parameters():\n",
    "#     print(p)\n",
    "#     print(r)\n",
    "model.eval()\n",
    "R = model(tens_x)"
   ]
  },
  {
   "cell_type": "code",
   "execution_count": 130,
   "metadata": {},
   "outputs": [],
   "source": [
    "R_np = R.detach().numpy().reshape((52, 2049))"
   ]
  },
  {
   "cell_type": "code",
   "execution_count": 131,
   "metadata": {},
   "outputs": [],
   "source": [
    "X_hat = np.matmul(W.T, (X_w ** R_np)) \n",
    "Y = np.matmul(W.T, Y_w)"
   ]
  },
  {
   "cell_type": "code",
   "execution_count": 132,
   "metadata": {},
   "outputs": [
    {
     "name": "stderr",
     "output_type": "stream",
     "text": [
      "/anaconda3/envs/audio/lib/python3.5/site-packages/ipykernel_launcher.py:1: RuntimeWarning: invalid value encountered in true_divide\n",
      "  \"\"\"Entry point for launching an IPython kernel.\n"
     ]
    }
   ],
   "source": [
    "G = sigmoid(2, (Y/X_hat))"
   ]
  },
  {
   "cell_type": "code",
   "execution_count": 135,
   "metadata": {},
   "outputs": [],
   "source": [
    "G = np.nan_to_num(G, nan=2)"
   ]
  },
  {
   "cell_type": "code",
   "execution_count": 136,
   "metadata": {},
   "outputs": [
    {
     "data": {
      "text/plain": [
       "array([[2.        , 2.        , 2.        , ..., 2.        , 2.        ,\n",
       "        2.        ],\n",
       "       [1.99999367, 1.99983097, 2.        , ..., 1.02722742, 1.02203253,\n",
       "        1.01815978],\n",
       "       [1.99999389, 1.99982713, 2.        , ..., 1.02740499, 1.02222062,\n",
       "        1.01829802],\n",
       "       ...,\n",
       "       [1.97092769, 1.99454477, 1.99978215, ..., 2.        , 2.        ,\n",
       "        2.        ],\n",
       "       [1.97093049, 1.99454562, 1.9997822 , ..., 2.        , 2.        ,\n",
       "        2.        ],\n",
       "       [1.97093218, 1.99454614, 1.99978223, ..., 2.        , 2.        ,\n",
       "        2.        ]])"
      ]
     },
     "execution_count": 136,
     "metadata": {},
     "output_type": "execute_result"
    }
   ],
   "source": [
    "G"
   ]
  },
  {
   "cell_type": "code",
   "execution_count": 137,
   "metadata": {},
   "outputs": [],
   "source": [
    "X_fft = librosa.stft(x[fs*30*1:fs*30*2], n_fft=4096, win_length=2049, hop_length=1025)"
   ]
  },
  {
   "cell_type": "code",
   "execution_count": 66,
   "metadata": {},
   "outputs": [
    {
     "data": {
      "text/plain": [
       "(2049, 1291)"
      ]
     },
     "execution_count": 66,
     "metadata": {},
     "output_type": "execute_result"
    }
   ],
   "source": [
    "X_fft.shape"
   ]
  },
  {
   "cell_type": "code",
   "execution_count": 138,
   "metadata": {},
   "outputs": [],
   "source": [
    "X_sig = X_fft * G.T"
   ]
  },
  {
   "cell_type": "code",
   "execution_count": 139,
   "metadata": {},
   "outputs": [],
   "source": [
    "X_fin = librosa.istft(X_sig, win_length=2049, hop_length=1025)\n",
    "X_ift = librosa.istft(X_fft, win_length=2049, hop_length=1025)"
   ]
  },
  {
   "cell_type": "code",
   "execution_count": 108,
   "metadata": {},
   "outputs": [
    {
     "data": {
      "text/plain": [
       "array([ 0.0084759 , -0.01498455, -0.01320726, ..., -0.00332451,\n",
       "        0.00286108,  0.00558633], dtype=float32)"
      ]
     },
     "execution_count": 108,
     "metadata": {},
     "output_type": "execute_result"
    }
   ],
   "source": [
    "# X_fin\n",
    "x[:44100:30]"
   ]
  },
  {
   "cell_type": "code",
   "execution_count": 110,
   "metadata": {},
   "outputs": [
    {
     "data": {
      "text/plain": [
       "array([-0.00403677, -0.00041971,  0.00496132, ...,  0.00150856,\n",
       "        0.00136089,  0.00140583], dtype=float32)"
      ]
     },
     "execution_count": 110,
     "metadata": {},
     "output_type": "execute_result"
    }
   ],
   "source": [
    "X_fin"
   ]
  },
  {
   "cell_type": "code",
   "execution_count": 69,
   "metadata": {},
   "outputs": [],
   "source": [
    "import IPython.display as ipd"
   ]
  },
  {
   "cell_type": "code",
   "execution_count": 142,
   "metadata": {},
   "outputs": [],
   "source": [
    "# ipd.Audio(x[0:fs*30], rate=44100)\n",
    "ipd.Audio(X_fin, rate=44100)\n",
    "librosa.output.write_wav('../Downloads/drc_before.wav', X_fin, 44100)"
   ]
  },
  {
   "cell_type": "code",
   "execution_count": 143,
   "metadata": {},
   "outputs": [],
   "source": [
    "ipd.Audio(x[fs*30*1:fs*30*2], rate=44100)\n",
    "librosa.output.write_wav('../Downloads/drc_after.wav', x[fs*30*1:fs*30*2], 44100)"
   ]
  },
  {
   "cell_type": "code",
   "execution_count": 38,
   "metadata": {},
   "outputs": [],
   "source": [
    "mix_dataset, R_dataset = load_data(path1='../drc_mix', path2='../drc_master', \n",
    "                                   warp_path='xw.npy', R_path='R.npy', np_save=False)"
   ]
  },
  {
   "cell_type": "code",
   "execution_count": 39,
   "metadata": {},
   "outputs": [
    {
     "name": "stdout",
     "output_type": "stream",
     "text": [
      "epoch [1/150], loss:0.0855\n",
      "epoch [2/150], loss:0.0910\n",
      "epoch [3/150], loss:0.0958\n",
      "epoch [4/150], loss:0.0571\n",
      "epoch [5/150], loss:0.0350\n",
      "epoch [6/150], loss:0.0429\n",
      "epoch [7/150], loss:0.0529\n",
      "epoch [8/150], loss:0.0216\n",
      "epoch [9/150], loss:0.0234\n",
      "epoch [10/150], loss:0.1013\n",
      "epoch [11/150], loss:0.0109\n",
      "epoch [12/150], loss:0.0252\n",
      "epoch [13/150], loss:0.0141\n",
      "epoch [14/150], loss:0.0414\n",
      "epoch [15/150], loss:0.0067\n",
      "epoch [16/150], loss:0.0141\n",
      "epoch [17/150], loss:0.0129\n",
      "epoch [18/150], loss:0.0281\n",
      "epoch [19/150], loss:0.0105\n",
      "epoch [20/150], loss:0.0294\n",
      "epoch [21/150], loss:0.0175\n",
      "epoch [22/150], loss:0.0147\n",
      "epoch [23/150], loss:0.0229\n",
      "epoch [24/150], loss:0.0125\n",
      "epoch [25/150], loss:0.0182\n",
      "epoch [26/150], loss:0.0135\n",
      "epoch [27/150], loss:0.0151\n",
      "epoch [28/150], loss:0.0087\n",
      "epoch [29/150], loss:0.0338\n",
      "epoch [30/150], loss:0.0039\n",
      "epoch [31/150], loss:0.0059\n",
      "epoch [32/150], loss:0.0107\n",
      "epoch [33/150], loss:0.0133\n",
      "epoch [34/150], loss:0.0304\n",
      "epoch [35/150], loss:0.0272\n",
      "epoch [36/150], loss:0.0164\n",
      "epoch [37/150], loss:0.0170\n",
      "epoch [38/150], loss:0.0288\n",
      "epoch [39/150], loss:0.0059\n",
      "epoch [40/150], loss:0.0119\n",
      "epoch [41/150], loss:0.0107\n",
      "epoch [42/150], loss:0.0718\n",
      "epoch [43/150], loss:0.0074\n",
      "epoch [44/150], loss:0.0080\n",
      "epoch [45/150], loss:0.0114\n",
      "epoch [46/150], loss:0.0253\n",
      "epoch [47/150], loss:0.0424\n",
      "epoch [48/150], loss:0.0098\n",
      "epoch [49/150], loss:0.0351\n",
      "epoch [50/150], loss:0.0130\n",
      "epoch [51/150], loss:0.0159\n",
      "epoch [52/150], loss:0.0189\n",
      "epoch [53/150], loss:0.0137\n",
      "epoch [54/150], loss:0.0477\n",
      "epoch [55/150], loss:0.0292\n",
      "epoch [56/150], loss:0.0161\n",
      "epoch [57/150], loss:0.0196\n",
      "epoch [58/150], loss:0.0145\n",
      "epoch [59/150], loss:0.0176\n",
      "epoch [60/150], loss:0.0141\n",
      "epoch [61/150], loss:0.0276\n",
      "epoch [62/150], loss:0.0158\n",
      "epoch [63/150], loss:0.0199\n",
      "epoch [64/150], loss:0.0456\n",
      "epoch [65/150], loss:0.0141\n",
      "epoch [66/150], loss:0.0067\n",
      "epoch [67/150], loss:0.0137\n",
      "epoch [68/150], loss:0.0131\n",
      "epoch [69/150], loss:0.0144\n",
      "epoch [70/150], loss:0.0326\n",
      "epoch [71/150], loss:0.0353\n",
      "epoch [72/150], loss:0.0115\n",
      "epoch [73/150], loss:0.0218\n",
      "epoch [74/150], loss:0.0288\n",
      "epoch [75/150], loss:0.0093\n",
      "epoch [76/150], loss:0.0223\n",
      "epoch [77/150], loss:0.0162\n",
      "epoch [78/150], loss:0.0111\n",
      "epoch [79/150], loss:0.0179\n",
      "epoch [80/150], loss:0.0110\n",
      "epoch [81/150], loss:0.0081\n",
      "epoch [82/150], loss:0.0178\n",
      "epoch [83/150], loss:0.0220\n",
      "epoch [84/150], loss:0.0102\n",
      "epoch [85/150], loss:0.0078\n",
      "epoch [86/150], loss:0.0314\n",
      "epoch [87/150], loss:0.0171\n",
      "epoch [88/150], loss:0.0143\n",
      "epoch [89/150], loss:0.0136\n",
      "epoch [90/150], loss:0.0121\n",
      "epoch [91/150], loss:0.0133\n",
      "epoch [92/150], loss:0.0181\n",
      "epoch [93/150], loss:0.0131\n",
      "epoch [94/150], loss:0.0121\n",
      "epoch [95/150], loss:0.0069\n",
      "epoch [96/150], loss:0.0225\n",
      "epoch [97/150], loss:0.0413\n",
      "epoch [98/150], loss:0.0291\n",
      "epoch [99/150], loss:0.0133\n",
      "epoch [100/150], loss:0.0157\n",
      "epoch [101/150], loss:0.0084\n",
      "epoch [102/150], loss:0.0092\n",
      "epoch [103/150], loss:0.0086\n",
      "epoch [104/150], loss:0.0213\n",
      "epoch [105/150], loss:0.0334\n",
      "epoch [106/150], loss:0.0226\n",
      "epoch [107/150], loss:0.0170\n",
      "epoch [108/150], loss:0.0514\n",
      "epoch [109/150], loss:0.0150\n",
      "epoch [110/150], loss:0.0378\n",
      "epoch [111/150], loss:0.0073\n",
      "epoch [112/150], loss:0.0059\n",
      "epoch [113/150], loss:0.0568\n",
      "epoch [114/150], loss:0.0121\n",
      "epoch [115/150], loss:0.0310\n",
      "epoch [116/150], loss:0.0125\n",
      "epoch [117/150], loss:0.0106\n",
      "epoch [118/150], loss:0.0160\n",
      "epoch [119/150], loss:0.0423\n",
      "epoch [120/150], loss:0.0327\n",
      "epoch [121/150], loss:0.0151\n",
      "epoch [122/150], loss:0.0278\n",
      "epoch [123/150], loss:0.0132\n",
      "epoch [124/150], loss:0.0354\n",
      "epoch [125/150], loss:0.0189\n",
      "epoch [126/150], loss:0.0214\n",
      "epoch [127/150], loss:0.0071\n",
      "epoch [128/150], loss:0.0112\n",
      "epoch [129/150], loss:0.0141\n",
      "epoch [130/150], loss:0.0112\n",
      "epoch [131/150], loss:0.0287\n",
      "epoch [132/150], loss:0.0201\n",
      "epoch [133/150], loss:0.0152\n",
      "epoch [134/150], loss:0.0087\n",
      "epoch [135/150], loss:0.0136\n",
      "epoch [136/150], loss:0.0156\n",
      "epoch [137/150], loss:0.0063\n",
      "epoch [138/150], loss:0.0221\n",
      "epoch [139/150], loss:0.0117\n",
      "epoch [140/150], loss:0.0114\n",
      "epoch [141/150], loss:0.0076\n",
      "epoch [142/150], loss:0.0087\n",
      "epoch [143/150], loss:0.0165\n",
      "epoch [144/150], loss:0.0128\n",
      "epoch [145/150], loss:0.0131\n",
      "epoch [146/150], loss:0.0141\n",
      "epoch [147/150], loss:0.0122\n",
      "epoch [148/150], loss:0.0108\n",
      "epoch [149/150], loss:0.0300\n",
      "epoch [150/150], loss:0.0077\n"
     ]
    }
   ],
   "source": [
    "train(Autoencoder_Xw, mix_dataset, 20, 150, 1e-3, 1e-5, 'ae_xw.pth', False)"
   ]
  },
  {
   "cell_type": "code",
   "execution_count": 40,
   "metadata": {},
   "outputs": [
    {
     "name": "stdout",
     "output_type": "stream",
     "text": [
      "epoch [1/150], loss:0.0797\n",
      "epoch [2/150], loss:0.1566\n",
      "epoch [3/150], loss:0.1928\n",
      "epoch [4/150], loss:0.2552\n",
      "epoch [5/150], loss:0.1341\n",
      "epoch [6/150], loss:0.0983\n",
      "epoch [7/150], loss:0.0680\n",
      "epoch [8/150], loss:0.2070\n",
      "epoch [9/150], loss:0.2005\n",
      "epoch [10/150], loss:0.0468\n",
      "epoch [11/150], loss:0.0576\n",
      "epoch [12/150], loss:0.1581\n",
      "epoch [13/150], loss:0.0558\n",
      "epoch [14/150], loss:0.0510\n",
      "epoch [15/150], loss:0.1190\n",
      "epoch [16/150], loss:0.0504\n",
      "epoch [17/150], loss:0.0690\n",
      "epoch [18/150], loss:0.0631\n",
      "epoch [19/150], loss:0.0816\n",
      "epoch [20/150], loss:0.0372\n",
      "epoch [21/150], loss:0.0768\n",
      "epoch [22/150], loss:0.0995\n",
      "epoch [23/150], loss:0.1277\n",
      "epoch [24/150], loss:0.0824\n",
      "epoch [25/150], loss:0.0852\n",
      "epoch [26/150], loss:0.1428\n",
      "epoch [27/150], loss:0.1007\n",
      "epoch [28/150], loss:0.1087\n",
      "epoch [29/150], loss:0.0612\n",
      "epoch [30/150], loss:0.0846\n",
      "epoch [31/150], loss:0.0677\n",
      "epoch [32/150], loss:0.0707\n",
      "epoch [33/150], loss:0.0801\n",
      "epoch [34/150], loss:0.1384\n",
      "epoch [35/150], loss:0.0520\n",
      "epoch [36/150], loss:0.0449\n",
      "epoch [37/150], loss:0.0447\n",
      "epoch [38/150], loss:0.0605\n",
      "epoch [39/150], loss:0.0705\n",
      "epoch [40/150], loss:0.0965\n",
      "epoch [41/150], loss:0.0637\n",
      "epoch [42/150], loss:0.0487\n",
      "epoch [43/150], loss:0.0816\n",
      "epoch [44/150], loss:0.0598\n",
      "epoch [45/150], loss:0.0624\n",
      "epoch [46/150], loss:0.1203\n",
      "epoch [47/150], loss:0.1012\n",
      "epoch [48/150], loss:0.1147\n",
      "epoch [49/150], loss:0.0962\n",
      "epoch [50/150], loss:0.0851\n",
      "epoch [51/150], loss:0.0755\n",
      "epoch [52/150], loss:0.1565\n",
      "epoch [53/150], loss:0.0630\n",
      "epoch [54/150], loss:0.0828\n",
      "epoch [55/150], loss:0.1058\n",
      "epoch [56/150], loss:0.0527\n",
      "epoch [57/150], loss:0.0430\n",
      "epoch [58/150], loss:0.0949\n",
      "epoch [59/150], loss:0.1435\n",
      "epoch [60/150], loss:0.0957\n",
      "epoch [61/150], loss:0.0818\n",
      "epoch [62/150], loss:0.0709\n",
      "epoch [63/150], loss:0.0528\n",
      "epoch [64/150], loss:0.1073\n",
      "epoch [65/150], loss:0.0789\n",
      "epoch [66/150], loss:0.0561\n",
      "epoch [67/150], loss:0.0547\n",
      "epoch [68/150], loss:0.0480\n",
      "epoch [69/150], loss:0.0745\n",
      "epoch [70/150], loss:0.0799\n",
      "epoch [71/150], loss:0.1723\n",
      "epoch [72/150], loss:0.0735\n",
      "epoch [73/150], loss:0.0870\n",
      "epoch [74/150], loss:0.1608\n",
      "epoch [75/150], loss:0.0774\n",
      "epoch [76/150], loss:0.0589\n",
      "epoch [77/150], loss:0.1013\n",
      "epoch [78/150], loss:0.1376\n",
      "epoch [79/150], loss:0.1664\n",
      "epoch [80/150], loss:0.0524\n",
      "epoch [81/150], loss:0.0672\n",
      "epoch [82/150], loss:0.0444\n",
      "epoch [83/150], loss:0.0643\n",
      "epoch [84/150], loss:0.0521\n",
      "epoch [85/150], loss:0.1476\n",
      "epoch [86/150], loss:0.0992\n",
      "epoch [87/150], loss:0.1149\n",
      "epoch [88/150], loss:0.0530\n",
      "epoch [89/150], loss:0.0377\n",
      "epoch [90/150], loss:0.0744\n",
      "epoch [91/150], loss:0.0800\n",
      "epoch [92/150], loss:0.0690\n",
      "epoch [93/150], loss:0.0567\n",
      "epoch [94/150], loss:0.1391\n",
      "epoch [95/150], loss:0.0817\n",
      "epoch [96/150], loss:0.0733\n",
      "epoch [97/150], loss:0.0867\n",
      "epoch [98/150], loss:0.0867\n",
      "epoch [99/150], loss:0.0870\n",
      "epoch [100/150], loss:0.0704\n",
      "epoch [101/150], loss:0.0608\n",
      "epoch [102/150], loss:0.0447\n",
      "epoch [103/150], loss:0.0634\n",
      "epoch [104/150], loss:0.0529\n",
      "epoch [105/150], loss:0.1325\n",
      "epoch [106/150], loss:0.0451\n",
      "epoch [107/150], loss:0.0692\n",
      "epoch [108/150], loss:0.0495\n",
      "epoch [109/150], loss:0.0737\n",
      "epoch [110/150], loss:0.0951\n",
      "epoch [111/150], loss:0.0684\n",
      "epoch [112/150], loss:0.0415\n",
      "epoch [113/150], loss:0.0620\n",
      "epoch [114/150], loss:0.0608\n",
      "epoch [115/150], loss:0.0492\n",
      "epoch [116/150], loss:0.6601\n",
      "epoch [117/150], loss:0.0563\n",
      "epoch [118/150], loss:0.0855\n",
      "epoch [119/150], loss:0.0652\n",
      "epoch [120/150], loss:0.1523\n",
      "epoch [121/150], loss:0.1054\n",
      "epoch [122/150], loss:0.0496\n",
      "epoch [123/150], loss:0.1144\n",
      "epoch [124/150], loss:0.0558\n",
      "epoch [125/150], loss:0.1239\n",
      "epoch [126/150], loss:0.0598\n",
      "epoch [127/150], loss:0.0619\n",
      "epoch [128/150], loss:0.0534\n",
      "epoch [129/150], loss:0.0645\n",
      "epoch [130/150], loss:0.0690\n",
      "epoch [131/150], loss:0.0583\n",
      "epoch [132/150], loss:0.0760\n",
      "epoch [133/150], loss:0.0946\n",
      "epoch [134/150], loss:0.0549\n",
      "epoch [135/150], loss:0.1815\n",
      "epoch [136/150], loss:0.0604\n",
      "epoch [137/150], loss:0.1101\n",
      "epoch [138/150], loss:0.0831\n",
      "epoch [139/150], loss:0.1424\n",
      "epoch [140/150], loss:0.0994\n",
      "epoch [141/150], loss:0.0676\n",
      "epoch [142/150], loss:0.0402\n",
      "epoch [143/150], loss:0.0744\n",
      "epoch [144/150], loss:0.0601\n",
      "epoch [145/150], loss:0.0772\n",
      "epoch [146/150], loss:0.0642\n",
      "epoch [147/150], loss:0.1038\n",
      "epoch [148/150], loss:0.0586\n",
      "epoch [149/150], loss:0.0758\n",
      "epoch [150/150], loss:0.0545\n"
     ]
    }
   ],
   "source": [
    "train(Autoencoder_R, R_dataset, 20, 150, 1e-3, 1e-5, 'ae_R.pth', False)"
   ]
  },
  {
   "cell_type": "code",
   "execution_count": 5,
   "metadata": {},
   "outputs": [],
   "source": [
    "# upload_Xw_R_params(DNN, 'ae_xw.pth', 'ae_R.pth')"
   ]
  },
  {
   "cell_type": "code",
   "execution_count": 126,
   "metadata": {},
   "outputs": [
    {
     "name": "stdout",
     "output_type": "stream",
     "text": [
      "epoch [1/50], loss:0.0838\n",
      "epoch [2/50], loss:0.0257\n",
      "epoch [3/50], loss:0.0845\n",
      "epoch [4/50], loss:0.0130\n",
      "epoch [5/50], loss:0.0370\n",
      "epoch [6/50], loss:0.0230\n",
      "epoch [7/50], loss:0.0152\n",
      "epoch [8/50], loss:0.0095\n",
      "epoch [9/50], loss:0.0210\n",
      "epoch [10/50], loss:0.0113\n",
      "epoch [11/50], loss:0.0270\n",
      "epoch [12/50], loss:0.0084\n",
      "epoch [13/50], loss:0.0050\n",
      "epoch [14/50], loss:0.0083\n",
      "epoch [15/50], loss:0.0095\n",
      "epoch [16/50], loss:0.0059\n",
      "epoch [17/50], loss:0.0054\n",
      "epoch [18/50], loss:0.0061\n",
      "epoch [19/50], loss:0.0064\n",
      "epoch [20/50], loss:0.0159\n",
      "epoch [21/50], loss:0.0080\n",
      "epoch [22/50], loss:0.0122\n",
      "epoch [23/50], loss:0.0055\n",
      "epoch [24/50], loss:0.0100\n",
      "epoch [25/50], loss:0.0122\n",
      "epoch [26/50], loss:0.0284\n",
      "epoch [27/50], loss:0.0101\n",
      "epoch [28/50], loss:0.0277\n",
      "epoch [29/50], loss:0.0183\n",
      "epoch [30/50], loss:0.0104\n",
      "epoch [31/50], loss:0.0085\n",
      "epoch [32/50], loss:0.0072\n",
      "epoch [33/50], loss:0.0075\n",
      "epoch [34/50], loss:0.0146\n",
      "epoch [35/50], loss:0.0187\n",
      "epoch [36/50], loss:0.0082\n",
      "epoch [37/50], loss:0.0071\n",
      "epoch [38/50], loss:0.0123\n",
      "epoch [39/50], loss:0.0068\n",
      "epoch [40/50], loss:0.0341\n",
      "epoch [41/50], loss:0.0056\n",
      "epoch [42/50], loss:0.0082\n",
      "epoch [43/50], loss:0.0067\n",
      "epoch [44/50], loss:0.0036\n",
      "epoch [45/50], loss:0.0211\n",
      "epoch [46/50], loss:0.0059\n",
      "epoch [47/50], loss:0.0074\n",
      "epoch [48/50], loss:0.0081\n",
      "epoch [49/50], loss:0.0048\n",
      "epoch [50/50], loss:0.0039\n"
     ]
    }
   ],
   "source": [
    "train(DNN, mix_dataset, 20, 50, 1e-3, 1e-5, 'dnn.pth', True, param_list=['dnn_XwR.pth'])"
   ]
  },
  {
   "cell_type": "code",
   "execution_count": null,
   "metadata": {},
   "outputs": [],
   "source": []
  },
  {
   "cell_type": "code",
   "execution_count": null,
   "metadata": {},
   "outputs": [],
   "source": [
    "#0.5 amplitude = -6db\n",
    "def rms_normalization(x, R):\n",
    "    \"\"\"Calculate scalar for signal on a linear scale\"\"\"\n",
    "    n = x.shape[0]\n",
    "    a = np.sqrt((n * R**2) / np.sum(x**2))\n",
    "    return a"
   ]
  },
  {
   "cell_type": "code",
   "execution_count": 24,
   "metadata": {},
   "outputs": [
    {
     "name": "stdout",
     "output_type": "stream",
     "text": [
      "5.350895622612101\n"
     ]
    },
    {
     "data": {
      "text/plain": [
       "106550"
      ]
     },
     "execution_count": 24,
     "metadata": {},
     "output_type": "execute_result"
    }
   ],
   "source": [
    "calc_X_w(x, n=1)\n",
    "5*21310"
   ]
  },
  {
   "cell_type": "code",
   "execution_count": 53,
   "metadata": {},
   "outputs": [
    {
     "data": {
      "text/plain": [
       "106550"
      ]
     },
     "execution_count": 53,
     "metadata": {},
     "output_type": "execute_result"
    }
   ],
   "source": [
    "21310 * 5"
   ]
  },
  {
   "cell_type": "code",
   "execution_count": 87,
   "metadata": {},
   "outputs": [
    {
     "name": "stdout",
     "output_type": "stream",
     "text": [
      "(512,) (512,)\n"
     ]
    },
    {
     "data": {
      "image/png": "[encoded data removed]",
      "text/plain": [
       "<Figure size 432x288 with 1 Axes>"
      ]
     },
     "metadata": {
      "needs_background": "light"
     },
     "output_type": "display_data"
    }
   ],
   "source": [
    "a_0 = 1.5\n",
    "a_1 = 0.79\n",
    "fs = 88200\n",
    "for c in range(52):\n",
    "    f_c = 229 * (10**((a_1*c + a_0)/21.4) - 1)\n",
    "    b_c = 0.108*f_c + 24.7\n",
    "    b_half = b_c / 2\n",
    "    low = f_c - b_half\n",
    "    high = f_c + b_half\n",
    "    b, a = butter_bandpass(low, high, fs, order=2)\n",
    "    w, h = freqz(b, a)\n",
    "    plt.loglog((fs * 0.5 / np.pi) * w, abs(h), label=\"f_c = %d\" % f_c)\n",
    "plt.xlabel(\"Frequency (Hz)\")\n",
    "plt.ylabel(\"Gain\")\n",
    "plt.legend(loc='best')\n",
    "print(w.shape, h.shape)"
   ]
  },
  {
   "cell_type": "code",
   "execution_count": 17,
   "metadata": {},
   "outputs": [
    {
     "name": "stdout",
     "output_type": "stream",
     "text": [
      "(52, 1981)\n"
     ]
    }
   ],
   "source": [
    "a_0 = 1.5\n",
    "a_1 = 0.79\n",
    "fs = 44100\n",
    "C = 52\n",
    "M = x.fft.shape[1]\n",
    "W = np.zeros((C, M))\n",
    "x_sig = x.signal\n",
    "for c in range(52):\n",
    "    f_c = 229 * (10**((a_1*c + a_0)/24) - 1)\n",
    "    b_c = 0.108*f_c + 24.7\n",
    "    b_half = b_c / 2\n",
    "    low = f_c - b_half\n",
    "    high = f_c + b_half\n",
    "    b, a = butter_bandpass(low, high, fs, order=2)\n",
    "    y = lfilter(b, a, x_sig)\n",
    "    y_fft = np.abs(np.fft.fft(y, n=M))\n",
    "    W[c] = y_fft\n",
    "print(W.shape)"
   ]
  },
  {
   "cell_type": "code",
   "execution_count": 19,
   "metadata": {},
   "outputs": [],
   "source": [
    "X = x.fft.T\n",
    "X_w = np.matmul(W, X)"
   ]
  },
  {
   "cell_type": "code",
   "execution_count": 21,
   "metadata": {},
   "outputs": [
    {
     "data": {
      "text/plain": [
       "(52, 2049)"
      ]
     },
     "execution_count": 21,
     "metadata": {},
     "output_type": "execute_result"
    }
   ],
   "source": [
    "X_w.shape"
   ]
  },
  {
   "cell_type": "code",
   "execution_count": 37,
   "metadata": {},
   "outputs": [
    {
     "data": {
      "text/plain": [
       "[<matplotlib.lines.Line2D at 0x122b66ef0>]"
      ]
     },
     "execution_count": 37,
     "metadata": {},
     "output_type": "execute_result"
    },
    {
     "data": {
      "image/png": "[encoded data removed]",
      "text/plain": [
       "<Figure size 432x288 with 1 Axes>"
      ]
     },
     "metadata": {
      "needs_background": "light"
     },
     "output_type": "display_data"
    }
   ],
   "source": [
    "plt.plot(W[35])\n",
    "# W[1][0:10]"
   ]
  },
  {
   "cell_type": "code",
   "execution_count": null,
   "metadata": {},
   "outputs": [],
   "source": []
  }
 ],
 "metadata": {
  "kernelspec": {
   "display_name": "Python 3",
   "language": "python",
   "name": "python3"
  },
  "language_info": {
   "codemirror_mode": {
    "name": "ipython",
    "version": 3
   },
   "file_extension": ".py",
   "mimetype": "text/x-python",
   "name": "python",
   "nbconvert_exporter": "python",
   "pygments_lexer": "ipython3",
   "version": "3.5.6"
  }
 },
 "nbformat": 4,
 "nbformat_minor": 4
}
