{
 "cells": [
  {
   "cell_type": "code",
   "execution_count": 1,
   "metadata": {},
   "outputs": [],
   "source": [
    "import os\n",
    "import numpy as np\n",
    "from preprocessing import *\n",
    "from equalization import *\n",
    "%load_ext autoreload\n",
    "%autoreload 2"
   ]
  },
  {
   "cell_type": "code",
   "execution_count": 10,
   "metadata": {},
   "outputs": [],
   "source": [
    "class Signal:\n",
    "\tdef __init__(self, path, window_size, hop_length):\n",
    "\t\tself.path = path\n",
    "\t\tself.sr = librosa.get_samplerate(self.path)\n",
    "\t\tself.window_size = window_size\n",
    "\t\tself.hop_length = hop_length\n",
    "\t\tself.signal, _ = librosa.load(self.path, sr=self.sr)\n",
    "\t\tself.fft = np.abs(librosa.core.stft(self.signal, n_fft=self.window_size, hop_length=self.hop_length))\n",
    "\t\tself.freq_bins = self.fft.shape[0]\n",
    "\t\tself.fft_db = librosa.amplitude_to_db(self.fft)\n",
    "\n",
    "\tdef set_chunk(self, seconds):\n",
    "\t\tfft_length = self.fft_db.shape[1]\n",
    "\t\tnum_freqs = self.fft_db.shape[0]\n",
    "\t\tchunk_size = int(np.ceil((1 / (self.window_size / self.sr)) * seconds))\n",
    "\t\ttotal_chunks = int(np.ceil(fft_length / chunk_size))\n",
    "\t\tavg_mat = np.zeros((num_freqs, total_chunks))\n",
    "\t\tavg_vec = np.zeros((1, chunk_size))\n",
    "\t\tfor i in range(num_freqs):\n",
    "\t\t\tfor j in range(total_chunks):\n",
    "\t\t\t\tif j > total_chunks - 1:\n",
    "\t\t\t\t\tavg_vec = self.fft_db[i][chunk_size * j:]\n",
    "\t\t\t\t\tmu = np.mean(avg_vec)\n",
    "\t\t\t\t\tavg_mat[i][j] = mu\n",
    "\t\t\t\tavg_vec = self.fft_db[i][chunk_size * j: chunk_size * (j+1)]\n",
    "\t\t\t\tmu = np.mean(avg_vec)\n",
    "\t\t\t\tavg_mat[i][j] = mu\n",
    "\t\tself.chunk_fft = avg_mat\n",
    "\n",
    "\tdef set_rank_2d(self): \n",
    "\t\ta = np.zeros(self.chunk_fft.shape)\n",
    "\t\tfor row in range(self.chunk_fft.shape[1]):\n",
    "\t\t\ta[:, row] = np.abs(rankdata(self.chunk_fft[:, row], method='min') - (self.chunk_fft.shape[0])) + 1\n",
    "\t\tself.rank = a\n",
    "\n",
    "\tdef set_sparsity(self):\n",
    "\t\tsparse_vec = np.zeros((1, self.rank.shape[1]))\n",
    "\t\tmin_val = self.freq_bins\n",
    "\t\tfor i in range(self.rank.shape[1]):\n",
    "\t\t\tmu = np.mean(self.rank.T[i])\n",
    "\t\t\tif mu == min_val:\n",
    "\t\t\t\tsparse_vec[0, i] = 0\n",
    "\t\t\telse:\n",
    "\t\t\t\tsparse_vec[0, i] = 1\n",
    "\t\tself.sparse_vec = sparse_vec\n",
    "\n",
    "\tdef overlap(self, sv1):\n",
    "\t\toverlap_vec = self.sparse_vec * sv1\n",
    "\t\tnum_overlaps = np.sum(overlap_vec)\n",
    "\t\toverlap_ratio = num_overlaps / overlap_vec.shape[1]\n",
    "\t\treturn overlap_vec, num_overlaps, overlap_ratio\n",
    "\n",
    "\tdef sparse_overlap_avg(self, overlap_vec, num_overlaps):\n",
    "\t\tsoa_vec = np.zeros((self.freq_bins, 1))\n",
    "\t\tfor i in range(self.freq_bins):\n",
    "\t\t\tsoa_vec[i] = np.sum((self.chunk_fft * self.sparse_vec) * overlap_vec) / num_overlaps\n",
    "\t\treturn soa_vec\n",
    "\n",
    "\tdef rank_soa_vec(self, soa_vec): return np.abs(rankdata(soa_vec, method='min') - (soa_vec.shape[0])) + 1\n",
    "\n",
    "\tdef masker_rank_vec(self, r_soa_vec): np.expand_dims(np.where(r_soa_vec > 10, 1, 0), axis=1)\n",
    "\n",
    "\tdef maskee_rank_vec(self, r_soa_vec): np.expand_dims(np.where(r_soa_vec <= 10, 1, 0), axis=1)"
   ]
  },
  {
   "cell_type": "code",
   "execution_count": 13,
   "metadata": {},
   "outputs": [
    {
     "data": {
      "text/plain": [
       "<__main__.Signal at 0x10eab2828>"
      ]
     },
     "execution_count": 13,
     "metadata": {},
     "output_type": "execute_result"
    }
   ],
   "source": [
    "Signal(path, window_size=1024, hop_length=1024)"
   ]
  },
  {
   "cell_type": "code",
   "execution_count": 2,
   "metadata": {},
   "outputs": [],
   "source": [
    "path = '../Downloads/mozzy_type'\n",
    "files = file_scraper(path)\n",
    "full_paths = [path + '/' + file for file in files]"
   ]
  },
  {
   "cell_type": "code",
   "execution_count": 23,
   "metadata": {},
   "outputs": [],
   "source": [
    "devon = mask_chunks(paths=full_paths, window_size=1024, hop_length=1024, seconds=5, rank_threshold=10, max_n=3, min_overlap_ratio=0.10, max_eq=5)"
   ]
  },
  {
   "cell_type": "code",
   "execution_count": 24,
   "metadata": {},
   "outputs": [
    {
     "data": {
      "text/plain": [
       "[{'../Downloads/mozzy_type/Mozzy Type - Chromosome_Gm_01.wav': [[1719.298245614035,\n",
       "    4.43753440055673],\n",
       "   [1375.438596491228, 4.786612209827602],\n",
       "   [1289.4736842105262, 5.0]]},\n",
       " {'../Downloads/mozzy_type/Mozzy Type - Impact St 1.wav': [[1719.298245614035,\n",
       "    4.43753440055673],\n",
       "   [1375.438596491228, 4.786612209827602],\n",
       "   [1289.4736842105262, 5.0]]},\n",
       " {'../Downloads/mozzy_type/Mozzy Type - Clean Reverse Cym.wav': [[1719.298245614035,\n",
       "    4.43753440055673],\n",
       "   [1375.438596491228, 4.786612209827602],\n",
       "   [1289.4736842105262, 5.0]]},\n",
       " {'../Downloads/mozzy_type/Mozzy Type - Metro SFX 23.wav': [[1719.298245614035,\n",
       "    4.43753440055673],\n",
       "   [1375.438596491228, 4.786612209827602],\n",
       "   [1289.4736842105262, 5.0]]},\n",
       " {'../Downloads/mozzy_type/Mozzy Type - AhVedonde (efx2).wav': [[1719.298245614035,\n",
       "    4.43753440055673],\n",
       "   [1375.438596491228, 4.786612209827602],\n",
       "   [1289.4736842105262, 5.0]]},\n",
       " {'../Downloads/mozzy_type/Mozzy Type - K.E on the track  808 BD (194).wav': []},\n",
       " {'../Downloads/mozzy_type/Mozzy Type - hat tight.wav': []},\n",
       " {'../Downloads/mozzy_type/Mozzy Type - Impact St 1(2).wav': []},\n",
       " {'../Downloads/mozzy_type/Mozzy Type - Impact St 1(3).wav': []},\n",
       " {'../Downloads/mozzy_type/Mozzy Type - Presence 4.wav': []},\n",
       " {'../Downloads/mozzy_type/Mozzy Type - gh_syn100_deflect.wav': []},\n",
       " {'../Downloads/mozzy_type/Mozzy Type - Presence 5.wav': []},\n",
       " {'../Downloads/mozzy_type/Mozzy Type - Bad Guy Kick.wav': []},\n",
       " {'../Downloads/mozzy_type/Mozzy Type - Presence 6.wav': []},\n",
       " {'../Downloads/mozzy_type/Mozzy Type - gh_syn100_oldskool_A.wav': []}]"
      ]
     },
     "execution_count": 24,
     "metadata": {},
     "output_type": "execute_result"
    }
   ],
   "source": [
    "devon"
   ]
  },
  {
   "cell_type": "code",
   "execution_count": 26,
   "metadata": {},
   "outputs": [
    {
     "name": "stdout",
     "output_type": "stream",
     "text": [
      "Pyo message: Offline Server rendering file ../Downloads/devon1/EQ - Mozzy Type - Chromosome_Gm_01.wav dur=149.333313\n",
      "Pyo message: Offline Server rendering finished.\n",
      "Pyo message: Offline Server rendering file ../Downloads/devon1/EQ - Mozzy Type - Impact St 1.wav dur=149.333313\n",
      "Pyo message: Offline Server rendering finished.\n",
      "Pyo message: Offline Server rendering file ../Downloads/devon1/EQ - Mozzy Type - Clean Reverse Cym.wav dur=149.333313\n",
      "Pyo message: Offline Server rendering finished.\n",
      "Pyo message: Offline Server rendering file ../Downloads/devon1/EQ - Mozzy Type - Metro SFX 23.wav dur=149.333313\n",
      "Pyo message: Offline Server rendering finished.\n",
      "Pyo message: Offline Server rendering file ../Downloads/devon1/EQ - Mozzy Type - AhVedonde (efx2).wav dur=149.333313\n",
      "Pyo message: Offline Server rendering finished.\n",
      "Pyo message: Offline Server rendering file ../Downloads/devon1/EQ - Mozzy Type - K.E on the track  808 BD (194).wav dur=149.333313\n",
      "Pyo message: Offline Server rendering finished.\n",
      "Pyo message: Offline Server rendering file ../Downloads/devon1/EQ - Mozzy Type - hat tight.wav dur=149.333313\n",
      "Pyo message: Offline Server rendering finished.\n",
      "Pyo message: Offline Server rendering file ../Downloads/devon1/EQ - Mozzy Type - Impact St 1(2).wav dur=149.333313\n",
      "Pyo message: Offline Server rendering finished.\n",
      "Pyo message: Offline Server rendering file ../Downloads/devon1/EQ - Mozzy Type - Impact St 1(3).wav dur=149.333313\n",
      "Pyo message: Offline Server rendering finished.\n",
      "Pyo message: Offline Server rendering file ../Downloads/devon1/EQ - Mozzy Type - Presence 4.wav dur=149.333313\n",
      "Pyo message: Offline Server rendering finished.\n",
      "Pyo message: Offline Server rendering file ../Downloads/devon1/EQ - Mozzy Type - gh_syn100_deflect.wav dur=149.333313\n",
      "Pyo message: Offline Server rendering finished.\n",
      "Pyo message: Offline Server rendering file ../Downloads/devon1/EQ - Mozzy Type - Presence 5.wav dur=149.333313\n",
      "Pyo message: Offline Server rendering finished.\n",
      "Pyo message: Offline Server rendering file ../Downloads/devon1/EQ - Mozzy Type - Bad Guy Kick.wav dur=149.333313\n",
      "Pyo message: Offline Server rendering finished.\n",
      "Pyo message: Offline Server rendering file ../Downloads/devon1/EQ - Mozzy Type - Presence 6.wav dur=149.333313\n",
      "Pyo message: Offline Server rendering finished.\n",
      "Pyo message: Offline Server rendering file ../Downloads/devon1/EQ - Mozzy Type - gh_syn100_oldskool_A.wav dur=149.333313\n",
      "Pyo message: Offline Server rendering finished.\n"
     ]
    }
   ],
   "source": [
    "save_signals(devon, files, 2, \"../Downloads/devon1\", \"EQ - \")"
   ]
  },
  {
   "cell_type": "code",
   "execution_count": 11,
   "metadata": {},
   "outputs": [],
   "source": [
    "path = '../Downloads/mozzy_type/Mozzy Type - Presence 5.wav'\n",
    "path1 = '../Downloads/mozzy_type/Mozzy Type - Bad Guy Kick.wav'\n"
   ]
  },
  {
   "cell_type": "code",
   "execution_count": null,
   "metadata": {},
   "outputs": [],
   "source": []
  },
  {
   "cell_type": "code",
   "execution_count": 43,
   "metadata": {},
   "outputs": [],
   "source": [
    "class Signal:\n",
    "\tdef __init__(self, path, window_size, hop_length):\n",
    "\t\tself.path = path\n",
    "\t\tself.sr = librosa.get_samplerate(self.path)\n",
    "\t\tself.window_size = window_size\n",
    "\t\tself.hop_length = hop_length\n",
    "\t\tself.signal, _ = librosa.load(self.path, sr=self.sr)\n",
    "\t\tself.fft = np.abs(librosa.core.stft(self.signal, n_fft=self.window_size, hop_length=self.hop_length))\n",
    "\t\tself.freq_bins = self.fft.shape[0]\n",
    "\t\tself.fft_db = librosa.amplitude_to_db(self.fft)\n",
    "\n",
    "\tdef set_chunk(self, seconds):\n",
    "\t\tfft_length = self.fft_db.shape[1]\n",
    "\t\tnum_freqs = self.fft_db.shape[0]\n",
    "\t\tchunk_size = int(np.ceil((1 / (self.window_size / self.sr)) * seconds))\n",
    "\t\ttotal_chunks = int(np.ceil(fft_length / chunk_size))\n",
    "\t\tavg_mat = np.zeros((num_freqs, total_chunks))\n",
    "\t\tavg_vec = np.zeros((1, chunk_size))\n",
    "\t\tfor i in range(num_freqs):\n",
    "\t\t\tfor j in range(total_chunks):\n",
    "\t\t\t\tif j > total_chunks - 1:\n",
    "\t\t\t\t\tavg_vec = self.fft_db[i][chunk_size * j:]\n",
    "\t\t\t\t\tmu = np.mean(avg_vec)\n",
    "\t\t\t\t\tavg_mat[i][j] = mu\n",
    "\t\t\t\tavg_vec = self.fft_db[i][chunk_size * j: chunk_size * (j+1)]\n",
    "\t\t\t\tmu = np.mean(avg_vec)\n",
    "\t\t\t\tavg_mat[i][j] = mu\n",
    "\t\tself.chunk_fft = avg_mat\n",
    "\n",
    "\tdef set_rank_2d(self): \n",
    "\t\ta = np.zeros(self.chunk_fft.shape)\n",
    "\t\tfor row in range(self.chunk_fft.shape[1]):\n",
    "\t\t\ta[:, row] = np.abs(rankdata(self.chunk_fft[:, row], method='min') - (self.chunk_fft.shape[0])) + 1\n",
    "\t\tself.rank = a\n",
    "\n",
    "\tdef set_sparsity(self):\n",
    "\t\tsparse_vec = np.zeros((1, self.rank.shape[1]))\n",
    "\t\tfor i in range(self.rank.shape[1]):\n",
    "\t\t\tmu = np.mean(self.rank.T[i])\n",
    "\t\t\tif mu == self.freq_bins:\n",
    "\t\t\t\tsparse_vec[0, i] = 0\n",
    "\t\t\telse:\n",
    "\t\t\t\tsparse_vec[0, i] = 1\n",
    "\t\tself.sparse_vec = sparse_vec"
   ]
  },
  {
   "cell_type": "code",
   "execution_count": 44,
   "metadata": {},
   "outputs": [],
   "source": [
    "s = Signal(path, 1024, 1024)"
   ]
  },
  {
   "cell_type": "code",
   "execution_count": 45,
   "metadata": {},
   "outputs": [],
   "source": [
    "s.set_chunk(5)\n",
    "s.set_rank_2d()\n",
    "s.set_sparsity()"
   ]
  },
  {
   "cell_type": "code",
   "execution_count": 46,
   "metadata": {},
   "outputs": [
    {
     "data": {
      "text/plain": [
       "array([[-50.48006058, -50.48006058, -50.48006058, ..., -15.74076748,\n",
       "        -10.05226421, -20.81770325],\n",
       "       [-50.48006058, -50.48006058, -50.48006058, ...,   6.88460493,\n",
       "          4.32526016,   3.81143379],\n",
       "       [-50.48006058, -50.48006058, -50.48006058, ...,  12.71502495,\n",
       "         10.69186878,   9.91062355],\n",
       "       ...,\n",
       "       [-50.48006058, -50.48006058, -50.48006058, ..., -50.48006058,\n",
       "        -50.48006058, -50.48006821],\n",
       "       [-50.48006058, -50.48006058, -50.48006058, ..., -50.48006058,\n",
       "        -50.48006058, -50.48006821],\n",
       "       [-50.48006058, -50.48006058, -50.48006058, ..., -50.48006058,\n",
       "        -50.48006058, -50.48006821]])"
      ]
     },
     "execution_count": 46,
     "metadata": {},
     "output_type": "execute_result"
    }
   ],
   "source": [
    "s.chunk_fft"
   ]
  },
  {
   "cell_type": "code",
   "execution_count": 53,
   "metadata": {},
   "outputs": [],
   "source": [
    "sr = librosa.get_samplerate(path)\n",
    "sr1 = librosa.get_samplerate(path1)"
   ]
  },
  {
   "cell_type": "code",
   "execution_count": 26,
   "metadata": {},
   "outputs": [
    {
     "data": {
      "text/plain": [
       "(44100, 44100)"
      ]
     },
     "execution_count": 26,
     "metadata": {},
     "output_type": "execute_result"
    }
   ],
   "source": [
    "sr, sr1"
   ]
  },
  {
   "cell_type": "code",
   "execution_count": 55,
   "metadata": {},
   "outputs": [],
   "source": [
    "y, sr = librosa.load(path, sr=sr)\n",
    "y1, sr = librosa.load(path1, sr=sr)"
   ]
  },
  {
   "cell_type": "code",
   "execution_count": 7,
   "metadata": {},
   "outputs": [
    {
     "name": "stderr",
     "output_type": "stream",
     "text": [
      "/anaconda3/envs/audio/lib/python3.5/site-packages/librosa/beat.py:309: DeprecationWarning: np.asscalar(a) is deprecated since NumPy v1.16, use a.item() instead\n",
      "  hop_length=hop_length))\n"
     ]
    }
   ],
   "source": [
    "onset_env = librosa.onset.onset_strength(y, sr=sr)\n",
    "tempo = librosa.beat.tempo(onset_envelope=onset_env, sr=sr)"
   ]
  },
  {
   "cell_type": "code",
   "execution_count": 23,
   "metadata": {},
   "outputs": [
    {
     "name": "stderr",
     "output_type": "stream",
     "text": [
      "/anaconda3/envs/audio/lib/python3.5/site-packages/librosa/beat.py:309: DeprecationWarning: np.asscalar(a) is deprecated since NumPy v1.16, use a.item() instead\n",
      "  hop_length=hop_length))\n"
     ]
    }
   ],
   "source": [
    "onset_env1 = librosa.onset.onset_strength(y1, sr=sr)\n",
    "tempo1 = librosa.beat.tempo(onset_envelope=onset_env1, sr=sr)"
   ]
  },
  {
   "cell_type": "code",
   "execution_count": 24,
   "metadata": {},
   "outputs": [
    {
     "data": {
      "text/plain": [
       "array([63.80208333])"
      ]
     },
     "execution_count": 24,
     "metadata": {},
     "output_type": "execute_result"
    }
   ],
   "source": [
    "tempo1"
   ]
  },
  {
   "cell_type": "code",
   "execution_count": 22,
   "metadata": {},
   "outputs": [
    {
     "data": {
      "text/plain": [
       "array([120.18531977])"
      ]
     },
     "execution_count": 22,
     "metadata": {},
     "output_type": "execute_result"
    }
   ],
   "source": [
    "tempo"
   ]
  },
  {
   "cell_type": "code",
   "execution_count": null,
   "metadata": {},
   "outputs": [],
   "source": []
  },
  {
   "cell_type": "code",
   "execution_count": 11,
   "metadata": {},
   "outputs": [
    {
     "data": {
      "text/plain": [
       "array([298.42014898])"
      ]
     },
     "execution_count": 11,
     "metadata": {},
     "output_type": "execute_result"
    }
   ],
   "source": [
    "tempo * 2.483"
   ]
  },
  {
   "cell_type": "code",
   "execution_count": 17,
   "metadata": {},
   "outputs": [
    {
     "data": {
      "text/plain": [
       "74.605"
      ]
     },
     "execution_count": 17,
     "metadata": {},
     "output_type": "execute_result"
    }
   ],
   "source": [
    "298.42 / 4"
   ]
  },
  {
   "cell_type": "code",
   "execution_count": 10,
   "metadata": {},
   "outputs": [
    {
     "data": {
      "text/plain": [
       "2.4883333333333337"
      ]
     },
     "execution_count": 10,
     "metadata": {},
     "output_type": "execute_result"
    }
   ],
   "source": [
    "149.3 / 60"
   ]
  },
  {
   "cell_type": "code",
   "execution_count": 12,
   "metadata": {},
   "outputs": [
    {
     "data": {
      "text/plain": [
       "0.023219954648526078"
      ]
     },
     "execution_count": 12,
     "metadata": {},
     "output_type": "execute_result"
    }
   ],
   "source": [
    "1024 / 44100"
   ]
  },
  {
   "cell_type": "code",
   "execution_count": 34,
   "metadata": {},
   "outputs": [
    {
     "data": {
      "text/plain": [
       "215.33203125"
      ]
     },
     "execution_count": 34,
     "metadata": {},
     "output_type": "execute_result"
    }
   ],
   "source": [
    "(1 / (1024 / 44100)) * 5"
   ]
  },
  {
   "cell_type": "code",
   "execution_count": 13,
   "metadata": {},
   "outputs": [
    {
     "data": {
      "text/plain": [
       "array([2.00308866])"
      ]
     },
     "execution_count": 13,
     "metadata": {},
     "output_type": "execute_result"
    }
   ],
   "source": [
    "tempo / 60"
   ]
  },
  {
   "cell_type": "code",
   "execution_count": 14,
   "metadata": {},
   "outputs": [
    {
     "data": {
      "text/plain": [
       "array([86.26583011])"
      ]
     },
     "execution_count": 14,
     "metadata": {},
     "output_type": "execute_result"
    }
   ],
   "source": [
    "(tempo / 60) / (1024 / 44100)"
   ]
  },
  {
   "cell_type": "code",
   "execution_count": 15,
   "metadata": {},
   "outputs": [
    {
     "data": {
      "text/plain": [
       "74.56094592244827"
      ]
     },
     "execution_count": 15,
     "metadata": {},
     "output_type": "execute_result"
    }
   ],
   "source": [
    "6432 / 86.265"
   ]
  },
  {
   "cell_type": "code",
   "execution_count": 56,
   "metadata": {},
   "outputs": [],
   "source": [
    "D = np.abs(librosa.core.stft(y, n_fft=1024, hop_length=1024))\n",
    "D_db = librosa.amplitude_to_db(D)\n",
    "D1 = np.abs(librosa.core.stft(y1, n_fft=1024, hop_length=1024))\n",
    "D1_db = librosa.amplitude_to_db(D1)"
   ]
  },
  {
   "cell_type": "code",
   "execution_count": 40,
   "metadata": {},
   "outputs": [
    {
     "data": {
      "text/plain": [
       "29.77777777777778"
      ]
     },
     "execution_count": 40,
     "metadata": {},
     "output_type": "execute_result"
    }
   ],
   "source": [
    "# D.shape\n",
    "6432 / 216"
   ]
  },
  {
   "cell_type": "code",
   "execution_count": 63,
   "metadata": {},
   "outputs": [],
   "source": [
    "# D_db.shape\n",
    "frequency_range = np.array([i * (sr / D_db.shape[0]) for i in range(513)])"
   ]
  },
  {
   "cell_type": "code",
   "execution_count": 96,
   "metadata": {},
   "outputs": [
    {
     "data": {
      "text/plain": [
       "array([    0.        ,    85.96491228,   171.92982456,   257.89473684,\n",
       "         343.85964912,   429.8245614 ,   515.78947368,   601.75438596,\n",
       "         687.71929825,   773.68421053,   859.64912281,   945.61403509,\n",
       "        1031.57894737,  1117.54385965,  1203.50877193,  1289.47368421,\n",
       "        1375.43859649,  1461.40350877,  1547.36842105,  1633.33333333,\n",
       "        1719.29824561,  1805.26315789,  1891.22807018,  1977.19298246,\n",
       "        2063.15789474,  2149.12280702,  2235.0877193 ,  2321.05263158,\n",
       "        2407.01754386,  2492.98245614,  2578.94736842,  2664.9122807 ,\n",
       "        2750.87719298,  2836.84210526,  2922.80701754,  3008.77192982,\n",
       "        3094.73684211,  3180.70175439,  3266.66666667,  3352.63157895,\n",
       "        3438.59649123,  3524.56140351,  3610.52631579,  3696.49122807,\n",
       "        3782.45614035,  3868.42105263,  3954.38596491,  4040.35087719,\n",
       "        4126.31578947,  4212.28070175,  4298.24561404,  4384.21052632,\n",
       "        4470.1754386 ,  4556.14035088,  4642.10526316,  4728.07017544,\n",
       "        4814.03508772,  4900.        ,  4985.96491228,  5071.92982456,\n",
       "        5157.89473684,  5243.85964912,  5329.8245614 ,  5415.78947368,\n",
       "        5501.75438596,  5587.71929825,  5673.68421053,  5759.64912281,\n",
       "        5845.61403509,  5931.57894737,  6017.54385965,  6103.50877193,\n",
       "        6189.47368421,  6275.43859649,  6361.40350877,  6447.36842105,\n",
       "        6533.33333333,  6619.29824561,  6705.26315789,  6791.22807018,\n",
       "        6877.19298246,  6963.15789474,  7049.12280702,  7135.0877193 ,\n",
       "        7221.05263158,  7307.01754386,  7392.98245614,  7478.94736842,\n",
       "        7564.9122807 ,  7650.87719298,  7736.84210526,  7822.80701754,\n",
       "        7908.77192982,  7994.73684211,  8080.70175439,  8166.66666667,\n",
       "        8252.63157895,  8338.59649123,  8424.56140351,  8510.52631579,\n",
       "        8596.49122807,  8682.45614035,  8768.42105263,  8854.38596491,\n",
       "        8940.35087719,  9026.31578947,  9112.28070175,  9198.24561404,\n",
       "        9284.21052632,  9370.1754386 ,  9456.14035088,  9542.10526316,\n",
       "        9628.07017544,  9714.03508772,  9800.        ,  9885.96491228,\n",
       "        9971.92982456, 10057.89473684, 10143.85964912, 10229.8245614 ,\n",
       "       10315.78947368, 10401.75438596, 10487.71929825, 10573.68421053,\n",
       "       10659.64912281, 10745.61403509, 10831.57894737, 10917.54385965,\n",
       "       11003.50877193, 11089.47368421, 11175.43859649, 11261.40350877,\n",
       "       11347.36842105, 11433.33333333, 11519.29824561, 11605.26315789,\n",
       "       11691.22807018, 11777.19298246, 11863.15789474, 11949.12280702,\n",
       "       12035.0877193 , 12121.05263158, 12207.01754386, 12292.98245614,\n",
       "       12378.94736842, 12464.9122807 , 12550.87719298, 12636.84210526,\n",
       "       12722.80701754, 12808.77192982, 12894.73684211, 12980.70175439,\n",
       "       13066.66666667, 13152.63157895, 13238.59649123, 13324.56140351,\n",
       "       13410.52631579, 13496.49122807, 13582.45614035, 13668.42105263,\n",
       "       13754.38596491, 13840.35087719, 13926.31578947, 14012.28070175,\n",
       "       14098.24561404, 14184.21052632, 14270.1754386 , 14356.14035088,\n",
       "       14442.10526316, 14528.07017544, 14614.03508772, 14700.        ,\n",
       "       14785.96491228, 14871.92982456, 14957.89473684, 15043.85964912,\n",
       "       15129.8245614 , 15215.78947368, 15301.75438596, 15387.71929825,\n",
       "       15473.68421053, 15559.64912281, 15645.61403509, 15731.57894737,\n",
       "       15817.54385965, 15903.50877193, 15989.47368421, 16075.43859649,\n",
       "       16161.40350877, 16247.36842105, 16333.33333333, 16419.29824561,\n",
       "       16505.26315789, 16591.22807018, 16677.19298246, 16763.15789474,\n",
       "       16849.12280702, 16935.0877193 , 17021.05263158, 17107.01754386,\n",
       "       17192.98245614, 17278.94736842, 17364.9122807 , 17450.87719298,\n",
       "       17536.84210526, 17622.80701754, 17708.77192982, 17794.73684211,\n",
       "       17880.70175439, 17966.66666667, 18052.63157895, 18138.59649123,\n",
       "       18224.56140351, 18310.52631579, 18396.49122807, 18482.45614035,\n",
       "       18568.42105263, 18654.38596491, 18740.35087719, 18826.31578947,\n",
       "       18912.28070175, 18998.24561404, 19084.21052632, 19170.1754386 ,\n",
       "       19256.14035088, 19342.10526316, 19428.07017544, 19514.03508772,\n",
       "       19600.        , 19685.96491228, 19771.92982456, 19857.89473684,\n",
       "       19943.85964912, 20029.8245614 , 20115.78947368, 20201.75438596,\n",
       "       20287.71929825, 20373.68421053, 20459.64912281, 20545.61403509,\n",
       "       20631.57894737, 20717.54385965, 20803.50877193, 20889.47368421,\n",
       "       20975.43859649, 21061.40350877, 21147.36842105, 21233.33333333,\n",
       "       21319.29824561, 21405.26315789, 21491.22807018, 21577.19298246,\n",
       "       21663.15789474, 21749.12280702, 21835.0877193 , 21921.05263158,\n",
       "       22007.01754386, 22092.98245614, 22178.94736842, 22264.9122807 ,\n",
       "       22350.87719298, 22436.84210526, 22522.80701754, 22608.77192982,\n",
       "       22694.73684211, 22780.70175439, 22866.66666667, 22952.63157895,\n",
       "       23038.59649123, 23124.56140351, 23210.52631579, 23296.49122807,\n",
       "       23382.45614035, 23468.42105263, 23554.38596491, 23640.35087719,\n",
       "       23726.31578947, 23812.28070175, 23898.24561404, 23984.21052632,\n",
       "       24070.1754386 , 24156.14035088, 24242.10526316, 24328.07017544,\n",
       "       24414.03508772, 24500.        , 24585.96491228, 24671.92982456,\n",
       "       24757.89473684, 24843.85964912, 24929.8245614 , 25015.78947368,\n",
       "       25101.75438596, 25187.71929825, 25273.68421053, 25359.64912281,\n",
       "       25445.61403509, 25531.57894737, 25617.54385965, 25703.50877193,\n",
       "       25789.47368421, 25875.43859649, 25961.40350877, 26047.36842105,\n",
       "       26133.33333333, 26219.29824561, 26305.26315789, 26391.22807018,\n",
       "       26477.19298246, 26563.15789474, 26649.12280702, 26735.0877193 ,\n",
       "       26821.05263158, 26907.01754386, 26992.98245614, 27078.94736842,\n",
       "       27164.9122807 , 27250.87719298, 27336.84210526, 27422.80701754,\n",
       "       27508.77192982, 27594.73684211, 27680.70175439, 27766.66666667,\n",
       "       27852.63157895, 27938.59649123, 28024.56140351, 28110.52631579,\n",
       "       28196.49122807, 28282.45614035, 28368.42105263, 28454.38596491,\n",
       "       28540.35087719, 28626.31578947, 28712.28070175, 28798.24561404,\n",
       "       28884.21052632, 28970.1754386 , 29056.14035088, 29142.10526316,\n",
       "       29228.07017544, 29314.03508772, 29400.        , 29485.96491228,\n",
       "       29571.92982456, 29657.89473684, 29743.85964912, 29829.8245614 ,\n",
       "       29915.78947368, 30001.75438596, 30087.71929825, 30173.68421053,\n",
       "       30259.64912281, 30345.61403509, 30431.57894737, 30517.54385965,\n",
       "       30603.50877193, 30689.47368421, 30775.43859649, 30861.40350877,\n",
       "       30947.36842105, 31033.33333333, 31119.29824561, 31205.26315789,\n",
       "       31291.22807018, 31377.19298246, 31463.15789474, 31549.12280702,\n",
       "       31635.0877193 , 31721.05263158, 31807.01754386, 31892.98245614,\n",
       "       31978.94736842, 32064.9122807 , 32150.87719298, 32236.84210526,\n",
       "       32322.80701754, 32408.77192982, 32494.73684211, 32580.70175439,\n",
       "       32666.66666667, 32752.63157895, 32838.59649123, 32924.56140351,\n",
       "       33010.52631579, 33096.49122807, 33182.45614035, 33268.42105263,\n",
       "       33354.38596491, 33440.35087719, 33526.31578947, 33612.28070175,\n",
       "       33698.24561404, 33784.21052632, 33870.1754386 , 33956.14035088,\n",
       "       34042.10526316, 34128.07017544, 34214.03508772, 34300.        ,\n",
       "       34385.96491228, 34471.92982456, 34557.89473684, 34643.85964912,\n",
       "       34729.8245614 , 34815.78947368, 34901.75438596, 34987.71929825,\n",
       "       35073.68421053, 35159.64912281, 35245.61403509, 35331.57894737,\n",
       "       35417.54385965, 35503.50877193, 35589.47368421, 35675.43859649,\n",
       "       35761.40350877, 35847.36842105, 35933.33333333, 36019.29824561,\n",
       "       36105.26315789, 36191.22807018, 36277.19298246, 36363.15789474,\n",
       "       36449.12280702, 36535.0877193 , 36621.05263158, 36707.01754386,\n",
       "       36792.98245614, 36878.94736842, 36964.9122807 , 37050.87719298,\n",
       "       37136.84210526, 37222.80701754, 37308.77192982, 37394.73684211,\n",
       "       37480.70175439, 37566.66666667, 37652.63157895, 37738.59649123,\n",
       "       37824.56140351, 37910.52631579, 37996.49122807, 38082.45614035,\n",
       "       38168.42105263, 38254.38596491, 38340.35087719, 38426.31578947,\n",
       "       38512.28070175, 38598.24561404, 38684.21052632, 38770.1754386 ,\n",
       "       38856.14035088, 38942.10526316, 39028.07017544, 39114.03508772,\n",
       "       39200.        , 39285.96491228, 39371.92982456, 39457.89473684,\n",
       "       39543.85964912, 39629.8245614 , 39715.78947368, 39801.75438596,\n",
       "       39887.71929825, 39973.68421053, 40059.64912281, 40145.61403509,\n",
       "       40231.57894737, 40317.54385965, 40403.50877193, 40489.47368421,\n",
       "       40575.43859649, 40661.40350877, 40747.36842105, 40833.33333333,\n",
       "       40919.29824561, 41005.26315789, 41091.22807018, 41177.19298246,\n",
       "       41263.15789474, 41349.12280702, 41435.0877193 , 41521.05263158,\n",
       "       41607.01754386, 41692.98245614, 41778.94736842, 41864.9122807 ,\n",
       "       41950.87719298, 42036.84210526, 42122.80701754, 42208.77192982,\n",
       "       42294.73684211, 42380.70175439, 42466.66666667, 42552.63157895,\n",
       "       42638.59649123, 42724.56140351, 42810.52631579, 42896.49122807,\n",
       "       42982.45614035, 43068.42105263, 43154.38596491, 43240.35087719,\n",
       "       43326.31578947, 43412.28070175, 43498.24561404, 43584.21052632,\n",
       "       43670.1754386 , 43756.14035088, 43842.10526316, 43928.07017544,\n",
       "       44014.03508772])"
      ]
     },
     "execution_count": 96,
     "metadata": {},
     "output_type": "execute_result"
    }
   ],
   "source": [
    "frequency_range"
   ]
  },
  {
   "cell_type": "code",
   "execution_count": 76,
   "metadata": {},
   "outputs": [
    {
     "data": {
      "text/plain": [
       "(array([  1,   2,   3,   4,   5,   6,   7,   8,   9,  10,  11,  12,  13,\n",
       "         14,  15,  16,  17,  18,  19,  20,  21,  22,  23,  24,  25,  26,\n",
       "         27,  28,  29,  30,  31,  32,  33,  34,  35,  36,  37,  38,  39,\n",
       "         40,  41,  42,  43,  44,  45,  46,  47,  48,  49,  50,  51,  52,\n",
       "         53,  54,  55,  56,  57,  58,  59,  60,  61,  62,  63,  64,  65,\n",
       "         66,  67,  68,  69,  70,  71,  72,  73,  74,  75,  76,  77,  78,\n",
       "         79,  80,  81,  82,  83,  84,  85,  86,  87,  88,  89,  90,  91,\n",
       "         92,  93,  94,  95,  96,  97,  98,  99, 100, 101, 102, 103, 104,\n",
       "        105, 106, 107, 108, 109, 110, 111, 112, 113, 114, 115, 116, 117,\n",
       "        118, 119, 120, 121, 122, 123, 124, 125, 126, 127, 128, 129, 130,\n",
       "        131, 132, 133, 134, 135, 136, 137, 138, 139, 140, 141, 142, 143,\n",
       "        144, 145, 146, 147, 148, 149, 150, 151, 152, 153, 154, 155, 156,\n",
       "        157, 158, 159, 160, 161, 162, 163, 164, 165, 166, 167, 168, 169,\n",
       "        170, 171, 172, 173, 174, 175, 176, 177, 178, 179, 180, 181, 182,\n",
       "        183, 184, 185, 186, 187, 188, 189, 190, 191, 192, 193, 194, 195,\n",
       "        196, 197, 198, 199, 200, 201, 202, 203, 204, 205, 206, 207, 208,\n",
       "        209, 210, 211, 212, 213, 214, 215, 216, 217, 218, 219, 220, 221,\n",
       "        222, 223, 224, 225, 226, 227, 228, 229, 230, 231, 232]),)"
      ]
     },
     "execution_count": 76,
     "metadata": {},
     "output_type": "execute_result"
    }
   ],
   "source": [
    "# frequency_range[(frequency_range < 20000) & (frequency_range > 20)]\n",
    "np.where((frequency_range < 20000) & (frequency_range > 20))"
   ]
  },
  {
   "cell_type": "code",
   "execution_count": 58,
   "metadata": {},
   "outputs": [],
   "source": [
    "avg_vector = np.zeros((1, 216))\n",
    "for i in range(int(np.ceil(D_db.shape[1] / 216))):\n",
    "    if i > ((D_db.shape[1] / 216) - 1):\n",
    "        avg_vector = D_db[150][216*i:]\n",
    "        mu = np.mean(avg_vector)\n",
    "#         print(mu)\n",
    "    avg_vector = D_db[150][216*i: 216*(i+1)]\n",
    "    mu = np.mean(avg_vector)\n",
    "#     print(mu)"
   ]
  },
  {
   "cell_type": "code",
   "execution_count": 115,
   "metadata": {},
   "outputs": [],
   "source": [
    "def fft_chunk(y, seconds, window_size, sr):\n",
    "    fft_length = y.shape[1]\n",
    "    num_freqs = y.shape[0]\n",
    "    chunk_size = int(np.ceil((1 / (window_size / sr)) * seconds))\n",
    "    total_chunks = int(np.ceil(fft_length / chunk_size))\n",
    "    avg_mat = np.zeros((num_freqs, total_chunks))\n",
    "    avg_vec = np.zeros((1, chunk_size))\n",
    "    for i in range(num_freqs):\n",
    "        for j in range(total_chunks):\n",
    "            if j > total_chunks - 1:\n",
    "                avg_vec = y[i][chunk_size * j:]\n",
    "                mu = np.mean(avg_vec)\n",
    "                avg_mat[i][j] = mu\n",
    "            avg_vec = y[i][chunk_size * j: chunk_size * (j+1)]\n",
    "            mu = np.mean(avg_vec)\n",
    "            avg_mat[i][j] = mu\n",
    "    return avg_mat"
   ]
  },
  {
   "cell_type": "code",
   "execution_count": 116,
   "metadata": {},
   "outputs": [],
   "source": [
    "y_chunk = fft_chunk(D_db, 5, 1024, 44100)"
   ]
  },
  {
   "cell_type": "code",
   "execution_count": 117,
   "metadata": {},
   "outputs": [],
   "source": [
    "y1_chunk = fft_chunk(D1_db, 5, 1024, 44100)"
   ]
  },
  {
   "cell_type": "code",
   "execution_count": 82,
   "metadata": {},
   "outputs": [
    {
     "data": {
      "text/plain": [
       "array([[-50.48006058, -50.48006058, -50.48006058, ..., -15.74076748,\n",
       "        -10.05226421, -20.81770325],\n",
       "       [-50.48006058, -50.48006058, -50.48006058, ...,   6.88460493,\n",
       "          4.32526016,   3.81143379],\n",
       "       [-50.48006058, -50.48006058, -50.48006058, ...,  12.71502495,\n",
       "         10.69186878,   9.91062355],\n",
       "       ...,\n",
       "       [-50.48006058, -50.48006058, -50.48006058, ..., -50.48006058,\n",
       "        -50.48006058, -50.48006821],\n",
       "       [-50.48006058, -50.48006058, -50.48006058, ..., -50.48006058,\n",
       "        -50.48006058, -50.48006821],\n",
       "       [-50.48006058, -50.48006058, -50.48006058, ..., -50.48006058,\n",
       "        -50.48006058, -50.48006821]])"
      ]
     },
     "execution_count": 82,
     "metadata": {},
     "output_type": "execute_result"
    }
   ],
   "source": [
    "y_chunk"
   ]
  },
  {
   "cell_type": "code",
   "execution_count": 99,
   "metadata": {},
   "outputs": [],
   "source": [
    "r_y = rank_signal_2d(y_chunk)"
   ]
  },
  {
   "cell_type": "code",
   "execution_count": 118,
   "metadata": {},
   "outputs": [],
   "source": [
    "r_y1 = rank_signal_2d(y1_chunk)"
   ]
  },
  {
   "cell_type": "code",
   "execution_count": 104,
   "metadata": {},
   "outputs": [],
   "source": [
    "def audio_sparsity(r_y, min_y):\n",
    "    sparse_vec = np.zeros((1, r_y.shape[1]))\n",
    "    for i in range(r_y.shape[1]):\n",
    "        mu = np.mean(r_y.T[i])\n",
    "        if mu == min_y:\n",
    "            sparse_vec[0, i] = 0\n",
    "        else:\n",
    "            sparse_vec[0, i] = 1\n",
    "    return sparse_vec"
   ]
  },
  {
   "cell_type": "code",
   "execution_count": 110,
   "metadata": {},
   "outputs": [],
   "source": [
    "s_y = audio_sparsity(r_y, r_y.shape[0])"
   ]
  },
  {
   "cell_type": "code",
   "execution_count": 119,
   "metadata": {},
   "outputs": [],
   "source": [
    "s_y1 = audio_sparsity(r_y1, r_y1.shape[0])"
   ]
  },
  {
   "cell_type": "code",
   "execution_count": 141,
   "metadata": {},
   "outputs": [],
   "source": [
    "def overlap(a, b):\n",
    "    overlap_vec = a * b\n",
    "    num_overlaps = np.sum(overlap_vec)\n",
    "#     or_vec = np.where(a == b, 1 , 0)\n",
    "    overlap_ratio = num_overlaps / overlap_vec.shape[1]\n",
    "    return overlap_vec, num_overlaps, overlap_ratio"
   ]
  },
  {
   "cell_type": "code",
   "execution_count": 139,
   "metadata": {},
   "outputs": [
    {
     "data": {
      "text/plain": [
       "array([[0., 0., 0., 0., 0., 0., 0., 0., 0., 0., 0., 0., 0., 0., 0., 0.,\n",
       "        0., 1., 0., 0., 0., 0., 0., 0., 0., 0., 0., 0., 0., 0.]])"
      ]
     },
     "execution_count": 139,
     "metadata": {},
     "output_type": "execute_result"
    }
   ],
   "source": [
    "overlap"
   ]
  },
  {
   "cell_type": "code",
   "execution_count": 142,
   "metadata": {},
   "outputs": [],
   "source": [
    "o, num_o, o_r = overlap(s_y, s_y1)"
   ]
  },
  {
   "cell_type": "code",
   "execution_count": 151,
   "metadata": {},
   "outputs": [
    {
     "data": {
      "text/plain": [
       "(array([[0., 0., 0., 0., 0., 0., 0., 0., 0., 0., 0., 0., 0., 0., 0., 0.,\n",
       "         0., 1., 0., 0., 0., 0., 0., 0., 0., 0., 0., 0., 0., 0.]]),\n",
       " 1.0,\n",
       " 0.03333333333333333)"
      ]
     },
     "execution_count": 151,
     "metadata": {},
     "output_type": "execute_result"
    }
   ],
   "source": [
    "o, num_o, o_r"
   ]
  },
  {
   "cell_type": "code",
   "execution_count": 128,
   "metadata": {},
   "outputs": [
    {
     "data": {
      "text/plain": [
       "array([-50.48006058, -50.48006058, -50.48006058, -50.48006058,\n",
       "       -50.48006058, -50.48006058, -50.48006058, -50.48006058,\n",
       "       -50.48006058, -50.48006058, -50.48006058, -50.48006058,\n",
       "       -38.95417023,  -8.55482864, -18.1507206 ,  -8.02236843,\n",
       "       -17.91048431, -49.34363174, -50.48006058, -50.48006058,\n",
       "       -50.48006058, -50.48006058, -50.48006058, -50.48006058,\n",
       "       -50.48006058, -27.80969238,  -9.95785522, -15.74076748,\n",
       "       -10.05226421, -20.81770325])"
      ]
     },
     "execution_count": 128,
     "metadata": {},
     "output_type": "execute_result"
    }
   ],
   "source": [
    "y_chunk[0]"
   ]
  },
  {
   "cell_type": "code",
   "execution_count": 149,
   "metadata": {},
   "outputs": [
    {
     "data": {
      "text/plain": [
       "array([-50.48006058, -50.48006058, -50.48006058, -50.48006058,\n",
       "       -50.48006058, -50.48006058, -50.48006058, -50.48006058,\n",
       "       -50.48006058, -50.48006058, -50.48006058, -50.48006058,\n",
       "       -33.29862976,  12.79619312,  12.36432266,  13.07997608,\n",
       "        11.99641132, -34.66110611, -50.48006058, -50.48006058,\n",
       "       -50.48006058, -50.48006058, -50.48006058, -50.48006058,\n",
       "       -50.48006058, -18.38640594,  13.04644775,  13.53992176,\n",
       "        12.71369171,  10.64991379])"
      ]
     },
     "execution_count": 149,
     "metadata": {},
     "output_type": "execute_result"
    }
   ],
   "source": [
    "# y_chunk.dot(o.T) / num_o\n",
    "y_chunk[4]"
   ]
  },
  {
   "cell_type": "code",
   "execution_count": 164,
   "metadata": {},
   "outputs": [],
   "source": [
    "# y_chunk.dot(o.T) - y1_chunk.dot(o.T)\n",
    "# y1_chunk.dot(o.T)\n",
    "# y1_chunk[0]\n",
    "# y1_chunk[0] * s_y1\n",
    "# (y1_chunk[0] * s_y1) * o\n",
    "ycf = np.zeros((y_chunk.shape[0], 1))\n",
    "ycf1 = np.zeros((y1_chunk.shape[0], 1))\n",
    "\n",
    "for i in range(y1_chunk.shape[0]):\n",
    "    ycf[i] = np.sum((y_chunk[i] * s_y) * o) / num_o\n",
    "    ycf1[i] = np.sum((y1_chunk[i] * s_y1) * o) / num_o\n",
    "    \n",
    "# ycf"
   ]
  },
  {
   "cell_type": "code",
   "execution_count": 199,
   "metadata": {},
   "outputs": [],
   "source": [
    "# ycf1 - ycf\n",
    "rank_y = rank_signal_1d(ycf)\n",
    "rank_y1 = rank_signal_1d(ycf1)\n",
    "r_a = np.expand_dims(np.where(rank_y > 10, 1, 0), axis=1)\n",
    "r_b = np.expand_dims(np.where(rank_y1 <= 10, 1, 0), axis=1)\n",
    "v = ((r_a*r_b)*(ycf - ycf1)).flatten()"
   ]
  },
  {
   "cell_type": "code",
   "execution_count": 200,
   "metadata": {},
   "outputs": [
    {
     "data": {
      "text/plain": [
       "array([-34.37774372, -25.71929169,  -0.        ,  -0.        ,\n",
       "        -0.        , -20.29273796, -21.11304092, -18.87050629,\n",
       "        -0.        ,  -0.        ,  -0.        ,  -0.        ,\n",
       "        -0.        ,  -0.        ,  -0.        ,  -0.        ,\n",
       "        -0.        ,  -0.        ,  -0.        ,  -0.        ,\n",
       "        -0.        ,  -0.        ,  -0.        ,  -0.        ,\n",
       "        -0.        ,  -0.        ,  -0.        ,  -0.        ,\n",
       "        -0.        ,  -0.        ,  -0.        ,  -0.        ,\n",
       "        -0.        ,  -0.        ,  -0.        ,  -0.        ,\n",
       "        -0.        ,  -0.        ,  -0.        ,  -0.        ,\n",
       "        -0.        ,  -0.        ,  -0.        ,  -0.        ,\n",
       "        -0.        ,  -0.        ,  -0.        ,  -0.        ,\n",
       "        -0.        ,  -0.        ,  -0.        ,  -0.        ,\n",
       "        -0.        ,  -0.        ,  -0.        ,  -0.        ,\n",
       "        -0.        ,  -0.        ,  -0.        ,  -0.        ,\n",
       "        -0.        ,  -0.        ,  -0.        ,  -0.        ,\n",
       "        -0.        ,  -0.        ,  -0.        ,  -0.        ,\n",
       "        -0.        ,  -0.        ,  -0.        ,  -0.        ,\n",
       "        -0.        ,  -0.        ,  -0.        ,  -0.        ,\n",
       "        -0.        ,  -0.        ,  -0.        ,  -0.        ,\n",
       "        -0.        ,  -0.        ,  -0.        ,  -0.        ,\n",
       "        -0.        ,  -0.        ,  -0.        ,  -0.        ,\n",
       "        -0.        ,  -0.        ,  -0.        ,  -0.        ,\n",
       "        -0.        ,  -0.        ,  -0.        ,  -0.        ,\n",
       "        -0.        ,  -0.        ,  -0.        ,  -0.        ,\n",
       "        -0.        ,  -0.        ,  -0.        ,  -0.        ,\n",
       "        -0.        ,  -0.        ,  -0.        ,  -0.        ,\n",
       "        -0.        ,  -0.        ,  -0.        ,  -0.        ,\n",
       "        -0.        ,  -0.        ,  -0.        ,  -0.        ,\n",
       "        -0.        ,  -0.        ,  -0.        ,  -0.        ,\n",
       "        -0.        ,  -0.        ,  -0.        ,  -0.        ,\n",
       "        -0.        ,  -0.        ,  -0.        ,  -0.        ,\n",
       "        -0.        ,  -0.        ,  -0.        ,  -0.        ,\n",
       "        -0.        ,  -0.        ,  -0.        ,  -0.        ,\n",
       "        -0.        ,  -0.        ,  -0.        ,  -0.        ,\n",
       "        -0.        ,  -0.        ,  -0.        ,  -0.        ,\n",
       "        -0.        ,  -0.        ,  -0.        ,  -0.        ,\n",
       "        -0.        ,  -0.        ,  -0.        ,  -0.        ,\n",
       "        -0.        ,  -0.        ,  -0.        ,  -0.        ,\n",
       "        -0.        ,  -0.        ,  -0.        ,  -0.        ,\n",
       "        -0.        ,  -0.        ,  -0.        ,  -0.        ,\n",
       "        -0.        ,  -0.        ,  -0.        ,  -0.        ,\n",
       "        -0.        ,  -0.        ,  -0.        ,  -0.        ,\n",
       "        -0.        ,  -0.        ,  -0.        ,  -0.        ,\n",
       "        -0.        ,  -0.        ,  -0.        ,  -0.        ,\n",
       "        -0.        ,  -0.        ,  -0.        ,  -0.        ,\n",
       "        -0.        ,  -0.        ,  -0.        ,  -0.        ,\n",
       "        -0.        ,  -0.        ,  -0.        ,  -0.        ,\n",
       "        -0.        ,  -0.        ,  -0.        ,  -0.        ,\n",
       "        -0.        ,  -0.        ,  -0.        ,  -0.        ,\n",
       "        -0.        ,  -0.        ,  -0.        ,  -0.        ,\n",
       "        -0.        ,  -0.        ,  -0.        ,  -0.        ,\n",
       "        -0.        ,  -0.        ,  -0.        ,  -0.        ,\n",
       "        -0.        ,  -0.        ,  -0.        ,  -0.        ,\n",
       "        -0.        ,  -0.        ,  -0.        ,  -0.        ,\n",
       "        -0.        ,  -0.        ,  -0.        ,  -0.        ,\n",
       "        -0.        ,  -0.        ,  -0.        ,  -0.        ,\n",
       "        -0.        ,  -0.        ,  -0.        ,  -0.        ,\n",
       "        -0.        ,  -0.        ,  -0.        ,  -0.        ,\n",
       "        -0.        ,  -0.        ,  -0.        ,  -0.        ,\n",
       "        -0.        ,  -0.        ,  -0.        ,  -0.        ,\n",
       "        -0.        ,  -0.        ,  -0.        ,  -0.        ,\n",
       "        -0.        ,  -0.        ,  -0.        ,  -0.        ,\n",
       "        -0.        ,  -0.        ,  -0.        ,  -0.        ,\n",
       "        -0.        ,  -0.        ,  -0.        ,  -0.        ,\n",
       "        -0.        ,  -0.        ,  -0.        ,  -0.        ,\n",
       "        -0.        ,  -0.        ,  -0.        ,  -0.        ,\n",
       "        -0.        ,  -0.        ,  -0.        ,  -0.        ,\n",
       "        -0.        ,  -0.        ,  -0.        ,  -0.        ,\n",
       "        -0.        ,  -0.        ,  -0.        ,  -0.        ,\n",
       "        -0.        ,  -0.        ,  -0.        ,  -0.        ,\n",
       "        -0.        ,  -0.        ,  -0.        ,  -0.        ,\n",
       "        -0.        ,  -0.        ,  -0.        ,  -0.        ,\n",
       "        -0.        ,  -0.        ,  -0.        ,  -0.        ,\n",
       "        -0.        ,  -0.        ,  -0.        ,  -0.        ,\n",
       "        -0.        ,  -0.        ,  -0.        ,  -0.        ,\n",
       "        -0.        ,  -0.        ,  -0.        ,  -0.        ,\n",
       "        -0.        ,  -0.        ,  -0.        ,  -0.        ,\n",
       "        -0.        ,  -0.        ,  -0.        ,  -0.        ,\n",
       "        -0.        ,  -0.        ,  -0.        ,  -0.        ,\n",
       "        -0.        ,  -0.        ,  -0.        ,  -0.        ,\n",
       "        -0.        ,  -0.        ,  -0.        ,  -0.        ,\n",
       "        -0.        ,  -0.        ,  -0.        ,  -0.        ,\n",
       "        -0.        ,  -0.        ,  -0.        ,  -0.        ,\n",
       "        -0.        ,  -0.        ,  -0.        ,  -0.        ,\n",
       "        -0.        ,  -0.        ,  -0.        ,  -0.        ,\n",
       "        -0.        ,  -0.        ,  -0.        ,  -0.        ,\n",
       "        -0.        ,  -0.        ,  -0.        ,  -0.        ,\n",
       "        -0.        ,  -0.        ,  -0.        ,  -0.        ,\n",
       "        -0.        ,  -0.        ,  -0.        ,  -0.        ,\n",
       "        -0.        ,  -0.        ,  -0.        ,  -0.        ,\n",
       "        -0.        ,  -0.        ,  -0.        ,  -0.        ,\n",
       "        -0.        ,  -0.        ,  -0.        ,  -0.        ,\n",
       "        -0.        ,  -0.        ,  -0.        ,  -0.        ,\n",
       "        -0.        ,  -0.        ,  -0.        ,  -0.        ,\n",
       "        -0.        ,  -0.        ,  -0.        ,  -0.        ,\n",
       "        -0.        ,  -0.        ,  -0.        ,  -0.        ,\n",
       "        -0.        ,  -0.        ,  -0.        ,  -0.        ,\n",
       "        -0.        ,  -0.        ,  -0.        ,  -0.        ,\n",
       "        -0.        ,  -0.        ,  -0.        ,  -0.        ,\n",
       "        -0.        ,  -0.        ,  -0.        ,  -0.        ,\n",
       "        -0.        ,  -0.        ,  -0.        ,  -0.        ,\n",
       "        -0.        ,  -0.        ,  -0.        ,  -0.        ,\n",
       "        -0.        ,  -0.        ,  -0.        ,  -0.        ,\n",
       "        -0.        ,  -0.        ,  -0.        ,  -0.        ,\n",
       "        -0.        ,  -0.        ,  -0.        ,  -0.        ,\n",
       "        -0.        ,  -0.        ,  -0.        ,  -0.        ,\n",
       "        -0.        ,  -0.        ,  -0.        ,  -0.        ,\n",
       "        -0.        ,  -0.        ,  -0.        ,  -0.        ,\n",
       "        -0.        ,  -0.        ,  -0.        ,  -0.        ,\n",
       "        -0.        ,  -0.        ,  -0.        ,  -0.        ,\n",
       "        -0.        ,  -0.        ,  -0.        ,  -0.        ,\n",
       "        -0.        ,  -0.        ,  -0.        ,  -0.        ,\n",
       "        -0.        ,  -0.        ,  -0.        ,  -0.        ,\n",
       "        -0.        ,  -0.        ,  -0.        ,  -0.        ,\n",
       "        -0.        ,  -0.        ,  -0.        ,  -0.        ,\n",
       "        -0.        ,  -0.        ,  -0.        ,  -0.        ,\n",
       "        -0.        ,  -0.        ,  -0.        ,  -0.        ,\n",
       "        -0.        ,  -0.        ,  -0.        ,  -0.        ,\n",
       "        -0.        ,  -0.        ,  -0.        ,  -0.        ,\n",
       "        -0.        ,  -0.        ,  -0.        ,  -0.        ,\n",
       "        -0.        ,  -0.        ,  -0.        ,  -0.        ,\n",
       "        -0.        ,  -0.        ,  -0.        ,  -0.        ,\n",
       "        -0.        ,  -0.        ,  -0.        ,  -0.        ,\n",
       "        -0.        ,  -0.        ,  -0.        ,  -0.        ,\n",
       "        -0.        ,  -0.        ,  -0.        ,  -0.        ,\n",
       "        -0.        ,  -0.        ,  -0.        ,  -0.        ,\n",
       "        -0.        ,  -0.        ,  -0.        ,  -0.        ,\n",
       "        -0.        ])"
      ]
     },
     "execution_count": 200,
     "metadata": {},
     "output_type": "execute_result"
    }
   ],
   "source": [
    "v"
   ]
  },
  {
   "cell_type": "code",
   "execution_count": 185,
   "metadata": {},
   "outputs": [
    {
     "data": {
      "text/plain": [
       "(513, 513)"
      ]
     },
     "execution_count": 185,
     "metadata": {},
     "output_type": "execute_result"
    }
   ],
   "source": [
    "# ycf1 - ycf\n",
    "# rank_signal_1d(ycf1).shape\n",
    "# (ycf1 - ycf).shape\n",
    "((ycf-ycf1)*(r_a*r_b)).shape"
   ]
  },
  {
   "cell_type": "code",
   "execution_count": 75,
   "metadata": {},
   "outputs": [
    {
     "data": {
      "text/plain": [
       "array([30, 29, 28, 27, 26, 25, 24, 23, 22, 21, 20, 19, 10,  2,  7,  1,  6,\n",
       "       11, 18, 17, 16, 15, 14, 13, 12,  9,  3,  5,  4,  8])"
      ]
     },
     "execution_count": 75,
     "metadata": {},
     "output_type": "execute_result"
    }
   ],
   "source": [
    "rank_signal_1d(y_chunk[0])"
   ]
  },
  {
   "cell_type": "code",
   "execution_count": 64,
   "metadata": {},
   "outputs": [
    {
     "data": {
      "text/plain": [
       "(513, 6432)"
      ]
     },
     "execution_count": 64,
     "metadata": {},
     "output_type": "execute_result"
    }
   ],
   "source": [
    "D_db.shape"
   ]
  },
  {
   "cell_type": "code",
   "execution_count": 59,
   "metadata": {},
   "outputs": [],
   "source": [
    "avg_vector = np.zeros((1, 48))\n",
    "for i in range(134):\n",
    "    avg_vector = D_db[150][48*i: 48*(i+1)]\n",
    "    mu = np.mean(avg_vector)\n",
    "#     print(mu)"
   ]
  },
  {
   "cell_type": "code",
   "execution_count": 57,
   "metadata": {},
   "outputs": [
    {
     "name": "stdout",
     "output_type": "stream",
     "text": [
      "-30.652927\n",
      "-30.652927\n",
      "-30.652927\n",
      "-30.652927\n",
      "-30.499521\n",
      "-30.524275\n",
      "-30.396774\n",
      "-30.520191\n",
      "-30.602787\n",
      "-30.652927\n",
      "-30.652927\n",
      "-30.652927\n",
      "-30.652927\n",
      "-30.652927\n",
      "-30.652927\n",
      "-30.652927\n",
      "-30.652927\n",
      "-30.3479\n",
      "-30.599857\n",
      "-30.484507\n",
      "-30.304426\n",
      "-30.628422\n",
      "-30.652927\n",
      "-30.652927\n",
      "-30.652927\n",
      "-30.652927\n",
      "-30.652927\n",
      "-30.652927\n",
      "-30.652927\n",
      "-30.652925\n",
      "-30.652925\n"
     ]
    }
   ],
   "source": [
    "avg_vector = np.zeros((1, 216))\n",
    "for i in range(int(np.ceil(D_db.shape[1] / 216))):\n",
    "    if i > ((D1_db.shape[1] / 216) - 1):\n",
    "        avg_vector = D1_db[150][216*i:]\n",
    "        mu = np.mean(avg_vector)\n",
    "        print(mu)\n",
    "    avg_vector = D1_db[150][216*i: 216*(i+1)]\n",
    "    mu = np.mean(avg_vector)\n",
    "    print(mu)"
   ]
  },
  {
   "cell_type": "code",
   "execution_count": 56,
   "metadata": {},
   "outputs": [
    {
     "data": {
      "text/plain": [
       "-6.125314e-06"
      ]
     },
     "execution_count": 56,
     "metadata": {},
     "output_type": "execute_result"
    }
   ],
   "source": [
    "librosa.core.samples_to_time(y, sr=44100).min()"
   ]
  },
  {
   "cell_type": "code",
   "execution_count": 37,
   "metadata": {},
   "outputs": [
    {
     "data": {
      "text/plain": [
       "3.6053811659192827"
      ]
     },
     "execution_count": 37,
     "metadata": {},
     "output_type": "execute_result"
    }
   ],
   "source": [
    "6432 / 1784"
   ]
  },
  {
   "cell_type": "code",
   "execution_count": 40,
   "metadata": {},
   "outputs": [
    {
     "data": {
      "text/plain": [
       "11668185"
      ]
     },
     "execution_count": 40,
     "metadata": {},
     "output_type": "execute_result"
    }
   ],
   "source": [
    "22745*513"
   ]
  },
  {
   "cell_type": "code",
   "execution_count": 41,
   "metadata": {},
   "outputs": [
    {
     "data": {
      "text/plain": [
       "3299616"
      ]
     },
     "execution_count": 41,
     "metadata": {},
     "output_type": "execute_result"
    }
   ],
   "source": [
    "513*6432"
   ]
  },
  {
   "cell_type": "code",
   "execution_count": 111,
   "metadata": {},
   "outputs": [
    {
     "data": {
      "text/plain": [
       "149.33331065759637"
      ]
     },
     "execution_count": 111,
     "metadata": {},
     "output_type": "execute_result"
    }
   ],
   "source": [
    "y.shape[0] / 44100"
   ]
  },
  {
   "cell_type": "code",
   "execution_count": 109,
   "metadata": {},
   "outputs": [
    {
     "data": {
      "text/plain": [
       "(6585599,)"
      ]
     },
     "execution_count": 109,
     "metadata": {},
     "output_type": "execute_result"
    }
   ],
   "source": [
    "y.shape"
   ]
  },
  {
   "cell_type": "code",
   "execution_count": 112,
   "metadata": {},
   "outputs": [
    {
     "data": {
      "text/plain": [
       "149.35074829931972"
      ]
     },
     "execution_count": 112,
     "metadata": {},
     "output_type": "execute_result"
    }
   ],
   "source": [
    "(1024 / 44100) * 6432"
   ]
  },
  {
   "cell_type": "code",
   "execution_count": null,
   "metadata": {},
   "outputs": [],
   "source": []
  }
 ],
 "metadata": {
  "kernelspec": {
   "display_name": "Python 3",
   "language": "python",
   "name": "python3"
  },
  "language_info": {
   "codemirror_mode": {
    "name": "ipython",
    "version": 3
   },
   "file_extension": ".py",
   "mimetype": "text/x-python",
   "name": "python",
   "nbconvert_exporter": "python",
   "pygments_lexer": "ipython3",
   "version": "3.5.6"
  }
 },
 "nbformat": 4,
 "nbformat_minor": 4
}
